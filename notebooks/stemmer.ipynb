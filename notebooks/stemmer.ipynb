{
 "cells": [
  {
   "cell_type": "code",
   "execution_count": 14,
   "id": "63b70629",
   "metadata": {},
   "outputs": [],
   "source": [
    "from json import load as json_load\n",
    "from pandas import read_csv\n",
    "from ..lib.stemmer import clean_text"
   ]
  },
  {
   "cell_type": "code",
   "execution_count": 6,
   "id": "9a425b77",
   "metadata": {},
   "outputs": [],
   "source": [
    "with open('../lib/logreg_models/regexps/regexp.json') as json_file:\n",
    "    regexps = json_load(json_file)"
   ]
  },
  {
   "cell_type": "code",
   "execution_count": 7,
   "id": "e6931f52",
   "metadata": {},
   "outputs": [
    {
     "name": "stdout",
     "output_type": "stream",
     "text": [
      "CPU times: user 29.1 s, sys: 1.43 s, total: 30.5 s\n",
      "Wall time: 30.5 s\n"
     ]
    }
   ],
   "source": [
    "%%time\n",
    "df_train = read_csv(\"../data/train.csv\")\n",
    "df_val = read_csv(\"../data/val.csv\")\n",
    "\n",
    "df_train['description'] = df_train['description'].replace(r'[\\W_]+', ' ', regex = True).str.lower()\n",
    "df_val['description'] = df_val['description'].replace(r'[\\W_]+', ' ', regex = True).str.lower()"
   ]
  },
  {
   "cell_type": "code",
   "execution_count": 10,
   "id": "920cc7a9",
   "metadata": {},
   "outputs": [
    {
     "name": "stderr",
     "output_type": "stream",
     "text": [
      "/home/integrant/.local/lib/python3.8/site-packages/pandas/core/strings/accessor.py:101: UserWarning: This pattern has match groups. To actually get the groups, use str.extract.\n",
      "  return func(self, *args, **kwargs)\n"
     ]
    },
    {
     "name": "stdout",
     "output_type": "stream",
     "text": [
      "CPU times: user 54.1 s, sys: 4.25 ms, total: 54.1 s\n",
      "Wall time: 54.1 s\n"
     ]
    }
   ],
   "source": [
    "%%time\n",
    "for regexp_name in regexps.keys():\n",
    "    df_train[regexp_name] = df_train['description'].str.contains(regexps[regexp_name]).astype(int)\n",
    "    df_val[regexp_name] = df_val['description'].str.contains(regexps[regexp_name]).astype(int)"
   ]
  },
  {
   "cell_type": "code",
   "execution_count": 15,
   "id": "7a60e93d",
   "metadata": {},
   "outputs": [
    {
     "name": "stdout",
     "output_type": "stream",
     "text": [
      "CPU times: user 4min 6s, sys: 418 ms, total: 4min 6s\n",
      "Wall time: 4min 6s\n"
     ]
    }
   ],
   "source": [
    "%%time\n",
    "df_train['description'] = df_train['description'].map(clean_text)\n",
    "df_val['description'] = df_val['description'].map(clean_text)"
   ]
  },
  {
   "cell_type": "code",
   "execution_count": 18,
   "id": "a62ca86c",
   "metadata": {},
   "outputs": [],
   "source": [
    "df_train.drop([\"title\", \"datetime_submitted\"], axis=1, inplace=True)\n",
    "df_val.drop([\"title\", \"datetime_submitted\"], axis=1, inplace=True)"
   ]
  },
  {
   "cell_type": "code",
   "execution_count": null,
   "id": "93a082f5",
   "metadata": {},
   "outputs": [],
   "source": [
    "df_train.to_csv('../data/clear_train.csv', index=False)\n",
    "df_val.to_csv('../data/clear_val.csv', index=False)"
   ]
  }
 ],
 "metadata": {
  "kernelspec": {
   "display_name": "Python 3 (ipykernel)",
   "language": "python",
   "name": "python3"
  },
  "language_info": {
   "codemirror_mode": {
    "name": "ipython",
    "version": 3
   },
   "file_extension": ".py",
   "mimetype": "text/x-python",
   "name": "python",
   "nbconvert_exporter": "python",
   "pygments_lexer": "ipython3",
   "version": "3.8.5"
  }
 },
 "nbformat": 4,
 "nbformat_minor": 5
}
