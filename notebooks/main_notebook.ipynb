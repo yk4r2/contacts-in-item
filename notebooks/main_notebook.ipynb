{
 "cells": [
  {
   "cell_type": "markdown",
   "metadata": {},
   "source": [
    "## Импорты\n"
   ]
  },
  {
   "cell_type": "code",
   "execution_count": 166,
   "metadata": {
    "id": "zIfAs0OWoyVg"
   },
   "outputs": [],
   "source": [
    "from datetime import datetime\n",
    "from functools import partial, reduce\n",
    "from itertools import product\n",
    "from json import load as json_load\n",
    "from multiprocessing import cpu_count\n",
    "from operator import add\n",
    "from pickle import dump as pickle_dump\n",
    "from pickle import load as pickle_load\n",
    "from timeit import default_timer as timer\n",
    "\n",
    "from catboost import CatBoostClassifier, Pool\n",
    "from numpy import array, int64, hstack as np_stack, logspace, mean, ndarray, vstack, zeros\n",
    "from pandas import concat, DataFrame, read_csv\n",
    "from scipy.sparse import hstack\n",
    "from sklearn.decomposition import TruncatedSVD\n",
    "from sklearn.ensemble import RandomForestClassifier\n",
    "from sklearn.feature_extraction import DictVectorizer\n",
    "from sklearn.feature_extraction.text import TfidfVectorizer\n",
    "from sklearn.linear_model import LogisticRegression\n",
    "from sklearn.metrics import accuracy_score, f1_score, roc_auc_score\n",
    "from sklearn.model_selection import (\n",
    "    GridSearchCV,\n",
    "    StratifiedKFold,\n",
    "    cross_val_score,\n",
    "    train_test_split,\n",
    ")\n",
    "from sklearn.naive_bayes import MultinomialNB\n",
    "from sklearn.pipeline import Pipeline\n",
    "from tabulate import tabulate\n",
    "from tqdm.notebook import tqdm\n",
    "from transliterate import translit"
   ]
  },
  {
   "cell_type": "code",
   "execution_count": 2,
   "metadata": {
    "colab": {
     "base_uri": "https://localhost:8080/"
    },
    "id": "k2B-SIaOpEF_",
    "outputId": "b529b376-6e95-4bb5-89f8-02b075eec486"
   },
   "outputs": [
    {
     "name": "stdout",
     "output_type": "stream",
     "text": [
      "CPU times: user 6.36 s, sys: 369 ms, total: 6.73 s\n",
      "Wall time: 6.95 s\n"
     ]
    }
   ],
   "source": [
    "%%time\n",
    "df_train = read_csv(\"../data/train_preprocessed.csv\")\n",
    "df_test = read_csv(\"../data/val_preprocessed.csv\")\n",
    "\n",
    "# df_train['description'] = df_train['description'].replace(r'[\\W_]+', ' ', regex = True).str.lower()\n",
    "# df_val['description'] = df_val['description'].replace(r'[\\W_]+', ' ', regex = True).str.lower()\n",
    "y_test = df_test.is_bad\n",
    "y_train = df_train.is_bad\n",
    "\n",
    "df_train = df_train.loc[:, df_train.columns != 'is_bad']\n",
    "df_test = df_test.loc[:, df_test.columns != 'is_bad']"
   ]
  },
  {
   "cell_type": "markdown",
   "metadata": {},
   "source": [
    "## Делим трейн на трейн и вал"
   ]
  },
  {
   "cell_type": "code",
   "execution_count": 3,
   "metadata": {},
   "outputs": [],
   "source": [
    "df_train, df_val, y_train, y_val = train_test_split(df_train, y_train, test_size=0.05, random_state=2021)"
   ]
  },
  {
   "cell_type": "markdown",
   "metadata": {},
   "source": [
    "## Преобразование текста в TF-IDF...\n",
    "...в надежде что количество оборотов, указывающих на наличие контактов, сильно ограничено, и его можно как-то удобно выделить с относительно небольшим словарём. Если выгорит, можно будет потом проводить кластерный анализ и остальные приколы векторных моделей."
   ]
  },
  {
   "cell_type": "code",
   "execution_count": 4,
   "metadata": {
    "id": "go1WkX8EoYx7"
   },
   "outputs": [],
   "source": [
    "text_transformer = TfidfVectorizer(min_df=1)"
   ]
  },
  {
   "cell_type": "code",
   "execution_count": 5,
   "metadata": {},
   "outputs": [],
   "source": [
    "with open('../lib/text_transformer.pickle', 'rb') as f:\n",
    "    text_transformer = pickle_load(f)\n",
    "    f.close()"
   ]
  },
  {
   "cell_type": "code",
   "execution_count": 6,
   "metadata": {
    "colab": {
     "base_uri": "https://localhost:8080/"
    },
    "id": "GMQYw5fQotYk",
    "outputId": "faaf9372-7bf1-46d0-e613-12ca3ad43f5c"
   },
   "outputs": [
    {
     "name": "stdout",
     "output_type": "stream",
     "text": [
      "CPU times: user 27.6 s, sys: 160 ms, total: 27.7 s\n",
      "Wall time: 27.7 s\n"
     ]
    }
   ],
   "source": [
    "%%time\n",
    "# X_train_text = text_transformer.fit_transform(df_train['title_and_description'])\n",
    "X_train_text = text_transformer.transform(df_train['title_and_description'])\n",
    "X_test_text = text_transformer.transform(df_test['title_and_description'])\n",
    "X_val_text = text_transformer.transform(df_val['title_and_description'])"
   ]
  },
  {
   "cell_type": "markdown",
   "metadata": {},
   "source": [
    "Ужасно, почему нельзя зафиттить его с параллелизацией?"
   ]
  },
  {
   "cell_type": "code",
   "execution_count": 7,
   "metadata": {},
   "outputs": [],
   "source": [
    "with open('../lib/text_transformer.pickle', 'wb') as f:\n",
    "    pickle_dump(text_transformer, f)\n",
    "    f.close()"
   ]
  },
  {
   "cell_type": "markdown",
   "metadata": {},
   "source": [
    "## Векторизуем категории\n",
    "В общем-то тут можно использовать два энкодера, но зачем усложнять, если всё за нас придумали?"
   ]
  },
  {
   "cell_type": "code",
   "execution_count": 6,
   "metadata": {},
   "outputs": [],
   "source": [
    "# with open(\"../lib/cat_transformer.pickle\", \"rb\") as f:\n",
    "#     vectorizer = pickle_load(f)\n",
    "#     f.close()"
   ]
  },
  {
   "cell_type": "code",
   "execution_count": 8,
   "metadata": {},
   "outputs": [],
   "source": [
    "categories = ['subcategory', 'category' , 'region', 'city']"
   ]
  },
  {
   "cell_type": "markdown",
   "metadata": {},
   "source": [
    "## Регулярочки. Довольно круто бустят модель!\n",
    "Вообще-то список можно посмотреть в файлике, там есть интересные регулярки на номер телефона формата 8п9а0к5о5р7в0д9г6а4т7ь и ещё куча всякой всячины.\\\n",
    "Не зря же я их придумывал..."
   ]
  },
  {
   "cell_type": "code",
   "execution_count": 8,
   "metadata": {
    "colab": {
     "base_uri": "https://localhost:8080/"
    },
    "id": "VZKQtNTDtiqN",
    "outputId": "78883b60-5686-41f2-ecf4-edf0ece9ee65"
   },
   "outputs": [
    {
     "name": "stdout",
     "output_type": "stream",
     "text": [
      "CPU times: user 4.49 s, sys: 1.78 s, total: 6.27 s\n",
      "Wall time: 6.28 s\n"
     ]
    }
   ],
   "source": [
    "# %%time\n",
    "\n",
    "\n",
    "# vectorizer = DictVectorizer(sparse=False)\n",
    "# df_transformed = concat([df_train[categories], df_test[categories], df_val[categories]])\n",
    "# df_transformed = vectorizer.fit_transform(df_transformed.to_dict('records'))\n",
    "\n",
    "# X_train_categ = df_transformed[:X_train_text.shape[0]]\n",
    "# X_test_categ = df_transformed[X_train_text.shape[0]:-X_val_text.shape[0]]\n",
    "# X_val_categ = df_transformed[-X_val_text.shape[0]:]"
   ]
  },
  {
   "cell_type": "code",
   "execution_count": 9,
   "metadata": {},
   "outputs": [],
   "source": [
    "# with open(\"../lib/cat_transformer.pickle\", \"wb\") as f:\n",
    "#     pickle_dump(vectorizer, f)\n",
    "#     f.close()"
   ]
  },
  {
   "cell_type": "code",
   "execution_count": 10,
   "metadata": {},
   "outputs": [],
   "source": [
    "# del df_transformed"
   ]
  },
  {
   "cell_type": "code",
   "execution_count": 11,
   "metadata": {},
   "outputs": [
    {
     "name": "stdout",
     "output_type": "stream",
     "text": [
      "              total        used        free      shared  buff/cache   available\r\n",
      "Mem:           31Gi        10Gi        19Gi       0,0Ki       1,3Gi        20Gi\r\n",
      "Swap:         2,0Gi       1,2Gi       767Mi\r\n"
     ]
    }
   ],
   "source": [
    "# !free -mh"
   ]
  },
  {
   "cell_type": "code",
   "execution_count": 9,
   "metadata": {},
   "outputs": [
    {
     "name": "stdout",
     "output_type": "stream",
     "text": [
      "CPU times: user 294 µs, sys: 7 µs, total: 301 µs\n",
      "Wall time: 367 µs\n"
     ]
    }
   ],
   "source": [
    "%%time\n",
    "with open('../lib/models/regexps/regexp.json') as json_file:\n",
    "    regexps = json_load(json_file)\n",
    "    json_file.close()"
   ]
  },
  {
   "cell_type": "code",
   "execution_count": 10,
   "metadata": {},
   "outputs": [],
   "source": [
    "regexp_names = list(product(regexps.keys(), ['_description', '_title']))\n",
    "add_reduce = partial(reduce, add)\n",
    "regexp_names = list(map(add_reduce, regexp_names))"
   ]
  },
  {
   "cell_type": "markdown",
   "metadata": {},
   "source": [
    "# Обучаем модели"
   ]
  },
  {
   "cell_type": "markdown",
   "metadata": {},
   "source": [
    "## Обучаем логрегрессию\n",
    "Я сделал логистическую регрессию для каждой категории. Вот что получилось:"
   ]
  },
  {
   "cell_type": "code",
   "execution_count": 21,
   "metadata": {},
   "outputs": [
    {
     "name": "stderr",
     "output_type": "stream",
     "text": [
      "/home/yk4r2/anaconda3/lib/python3.8/site-packages/ipykernel/ipkernel.py:287: DeprecationWarning: `should_run_async` will not call `transform_cell` automatically in the future. Please pass the result to `transformed_cell` argument and any exception that happen during thetransform in `preprocessing_exc_tuple` in IPython 7.17 and above.\n",
      "  and should_run_async(code)\n"
     ]
    },
    {
     "name": "stdout",
     "output_type": "stream",
     "text": [
      "CPU times: user 8min 33s, sys: 6.7 s, total: 8min 40s\n",
      "Wall time: 25min 47s\n"
     ]
    }
   ],
   "source": [
    "%%time\n",
    "%%capture output\n",
    "\n",
    "logreg_grid = {\n",
    "    \"C\": [3.1, 3.3, 3.5, 3.7, 3.9, 4.1, 4.3, 4.5, 4.7],\n",
    "    \"fit_intercept\": [True, False],\n",
    "}\n",
    "\n",
    "LogReg = LogisticRegression(solver='lbfgs', multi_class='multinomial', random_state=2021, max_iter=100)\n",
    "grid_cv_logreg = GridSearchCV(LogReg, logreg_grid, cv=3, scoring='roc_auc', verbose=5, n_jobs=cpu_count())\n",
    "\n",
    "grid_cv_logreg.fit(X_train, y_train)"
   ]
  },
  {
   "cell_type": "markdown",
   "metadata": {},
   "source": [
    "Эта штука очень долго работала, внизу выписал лучший результат"
   ]
  },
  {
   "cell_type": "code",
   "execution_count": 23,
   "metadata": {},
   "outputs": [
    {
     "name": "stderr",
     "output_type": "stream",
     "text": [
      "/home/yk4r2/anaconda3/lib/python3.8/site-packages/ipykernel/ipkernel.py:287: DeprecationWarning: `should_run_async` will not call `transform_cell` automatically in the future. Please pass the result to `transformed_cell` argument and any exception that happen during thetransform in `preprocessing_exc_tuple` in IPython 7.17 and above.\n",
      "  and should_run_async(code)\n"
     ]
    },
    {
     "data": {
      "text/plain": [
       "{'C': 3.9, 'fit_intercept': False}"
      ]
     },
     "execution_count": 23,
     "metadata": {},
     "output_type": "execute_result"
    }
   ],
   "source": [
    "grid_cv_logreg.best_params_"
   ]
  },
  {
   "cell_type": "code",
   "execution_count": 15,
   "metadata": {},
   "outputs": [],
   "source": [
    "# X_train_regexp = df_train[regexp_names]\n",
    "# X_test_regexp = df_test[regexp_names]\n",
    "# X_val_regexp = df_val[regexp_names]"
   ]
  },
  {
   "cell_type": "markdown",
   "metadata": {},
   "source": [
    "## Не забудем и про остальные значения"
   ]
  },
  {
   "cell_type": "code",
   "execution_count": 16,
   "metadata": {},
   "outputs": [],
   "source": [
    "# X_train_others = df_train[['time', 'price']].values\n",
    "# X_test_others = df_test[['time', 'price']].values\n",
    "# X_val_others = df_val[['time', 'price']].values"
   ]
  },
  {
   "cell_type": "code",
   "execution_count": 13,
   "metadata": {},
   "outputs": [],
   "source": [
    "with open('../lib/models/logreg.pickle', 'rb') as f:\n",
    "    logreg = pickle_load(f)\n",
    "    f.close()"
   ]
  },
  {
   "cell_type": "code",
   "execution_count": 11,
   "metadata": {},
   "outputs": [],
   "source": [
    "logreg_params = {\n",
    "        \"C\": 3.9,\n",
    "        \"fit_intercept\": False,\n",
    "        \"multi_class\": 'multinomial',\n",
    "        \"random_state\": 2021,\n",
    "        \"max_iter\": 100,\n",
    "        \"n_jobs\": cpu_count(),\n",
    "    }"
   ]
  },
  {
   "cell_type": "markdown",
   "metadata": {},
   "source": [
    "Сохраним наши логистические регрессии"
   ]
  },
  {
   "cell_type": "code",
   "execution_count": 12,
   "metadata": {},
   "outputs": [
    {
     "data": {
      "text/plain": [
       "LogisticRegression(C=3.9, fit_intercept=False, multi_class='multinomial',\n",
       "                   n_jobs=16, random_state=2021)"
      ]
     },
     "execution_count": 12,
     "metadata": {},
     "output_type": "execute_result"
    }
   ],
   "source": [
    "logreg = LogisticRegression(**logreg_params)\n",
    "logreg"
   ]
  },
  {
   "cell_type": "code",
   "execution_count": 29,
   "metadata": {},
   "outputs": [
    {
     "name": "stdout",
     "output_type": "stream",
     "text": [
      "CPU times: user 88.7 ms, sys: 775 ms, total: 864 ms\n",
      "Wall time: 1min 9s\n"
     ]
    },
    {
     "data": {
      "text/plain": [
       "LogisticRegression(C=3.9, fit_intercept=False, multi_class='multinomial',\n",
       "                   n_jobs=16, random_state=2021)"
      ]
     },
     "execution_count": 29,
     "metadata": {},
     "output_type": "execute_result"
    }
   ],
   "source": [
    "%%time\n",
    "logreg.fit(X_train_text, y_train)"
   ]
  },
  {
   "cell_type": "code",
   "execution_count": 42,
   "metadata": {},
   "outputs": [],
   "source": [
    "with open('../lib/models/logreg.pickle', 'wb') as f:\n",
    "    pickle_dump(logreg, f)\n",
    "    f.close()"
   ]
  },
  {
   "cell_type": "markdown",
   "metadata": {},
   "source": [
    "Код для загрузки моделек с ужасным comprehension"
   ]
  },
  {
   "cell_type": "markdown",
   "metadata": {},
   "source": [
    "Посмотрим на метрички на датасетах, полученных из тренировочного"
   ]
  },
  {
   "cell_type": "code",
   "execution_count": 14,
   "metadata": {},
   "outputs": [],
   "source": [
    "def metrics_printer(X_train, X_val, y_train, y_val, df_train, df_val, model, dataset_types):\n",
    "    overall_table = []\n",
    "    cats_table = []\n",
    "    for dataset, ds_type, labels, df in zip([X_train, X_val], dataset_types, [y_train, y_val], [df_train, df_val]):\n",
    "        pred_probas = zeros(labels.shape)\n",
    "        labels_pred = zeros(labels.shape)\n",
    "        for category in df[\"category\"].unique():\n",
    "            cat_name = translit(category.lower().replace(\" \", \"_\"), 'ru', reversed=True)\n",
    "            pred_probas[df[\"category\"] == category] = model.predict_proba(dataset[df[\"category\"] == category])[:, 1]\n",
    "            labels_pred[df[\"category\"] == category] = model.predict(dataset[df[\"category\"] == category])\n",
    "            rocauc_category = roc_auc_score(labels[df[\"category\"] == category], pred_probas[df[\"category\"] == category])\n",
    "            f1_category = f1_score(labels[df[\"category\"] == category], labels_pred[df[\"category\"] == category])\n",
    "            accuracy_category = accuracy_score(labels[df[\"category\"] == category], labels_pred[df[\"category\"] == category])\n",
    "            cats_table.append([cat_name, ds_type, rocauc_category, f1_category, accuracy_category])\n",
    "        rocauc = roc_auc_score(labels, pred_probas)\n",
    "        f1 = f1_score(labels, labels_pred)\n",
    "        accuracy = accuracy_score(labels, labels_pred)\n",
    "        overall_table.append([ds_type, rocauc, f1, accuracy])\n",
    "    print(\"Categories table:\")\n",
    "    print(tabulate(cats_table, headers=[\"Category\", \"Type\", \"AUC\", 'f1', 'accuracy'], tablefmt='orgtbl'))\n",
    "    print(\" _____________________________________________\")\n",
    "    print(\".____________________________________________.>\")\n",
    "    print(\"Overall table:\")\n",
    "    print(tabulate(overall_table, headers=['Dataset', 'AUC', 'f1', 'accuracy'], tablefmt='orgtbl'))"
   ]
  },
  {
   "cell_type": "code",
   "execution_count": 15,
   "metadata": {
    "colab": {
     "base_uri": "https://localhost:8080/"
    },
    "id": "bLw60CCR9_Qx",
    "outputId": "7c67d7d0-3952-4ec1-d240-eea0dec5c0cc",
    "scrolled": false
   },
   "outputs": [
    {
     "name": "stdout",
     "output_type": "stream",
     "text": [
      "Categories table:\n",
      "| Category             | Type   |      AUC |       f1 |   accuracy |\n",
      "|----------------------+--------+----------+----------+------------|\n",
      "| nedvizhimost'        | train  | 0.978165 | 0.915131 |   0.936195 |\n",
      "| bytovaja_elektronika | train  | 0.974727 | 0.831686 |   0.956036 |\n",
      "| transport            | train  | 0.985856 | 0.914734 |   0.955413 |\n",
      "| zhivotnye            | train  | 0.976538 | 0.935894 |   0.935086 |\n",
      "| rabota               | train  | 0.947191 | 0.828981 |   0.890272 |\n",
      "| lichnye_veschi       | train  | 0.963465 | 0.803799 |   0.952854 |\n",
      "| dlja_doma_i_dachi    | train  | 0.970043 | 0.863782 |   0.944144 |\n",
      "| hobbi_i_otdyh        | train  | 0.969774 | 0.832887 |   0.948138 |\n",
      "| uslugi               | train  | 0.951537 | 0.878637 |   0.891324 |\n",
      "| dlja_biznesa         | train  | 0.942121 | 0.729667 |   0.931157 |\n",
      "| transport            | val    | 0.955289 | 0.815977 |   0.90864  |\n",
      "| nedvizhimost'        | val    | 0.943069 | 0.843215 |   0.887789 |\n",
      "| dlja_doma_i_dachi    | val    | 0.913248 | 0.76521  |   0.908074 |\n",
      "| bytovaja_elektronika | val    | 0.922234 | 0.722051 |   0.925324 |\n",
      "| lichnye_veschi       | val    | 0.899297 | 0.673068 |   0.927041 |\n",
      "| uslugi               | val    | 0.901576 | 0.796706 |   0.821429 |\n",
      "| rabota               | val    | 0.881489 | 0.751497 |   0.831472 |\n",
      "| zhivotnye            | val    | 0.923214 | 0.868771 |   0.866779 |\n",
      "| hobbi_i_otdyh        | val    | 0.885381 | 0.67234  |   0.899772 |\n",
      "| dlja_biznesa         | val    | 0.8317   | 0.592593 |   0.909836 |\n",
      " _____________________________________________\n",
      ".____________________________________________.>\n",
      "Overall table:\n",
      "| Dataset   |      AUC |       f1 |   accuracy |\n",
      "|-----------+----------+----------+------------|\n",
      "| train     | 0.975987 | 0.877117 |   0.945741 |\n",
      "| val       | 0.932624 | 0.779187 |   0.905647 |\n"
     ]
    }
   ],
   "source": [
    "metrics_printer(X_train_text, X_val_text, y_train, y_val, df_train, df_val, logreg, ['train', 'val'])"
   ]
  },
  {
   "cell_type": "markdown",
   "metadata": {},
   "source": [
    "## Обучим наивный Байес"
   ]
  },
  {
   "cell_type": "code",
   "execution_count": 39,
   "metadata": {},
   "outputs": [
    {
     "name": "stdout",
     "output_type": "stream",
     "text": [
      "Fitting 3 folds for each of 7 candidates, totalling 21 fits\n"
     ]
    },
    {
     "name": "stderr",
     "output_type": "stream",
     "text": [
      "/home/yk4r2/anaconda3/lib/python3.8/site-packages/ipykernel/ipkernel.py:287: DeprecationWarning: `should_run_async` will not call `transform_cell` automatically in the future. Please pass the result to `transformed_cell` argument and any exception that happen during thetransform in `preprocessing_exc_tuple` in IPython 7.17 and above.\n",
      "  and should_run_async(code)\n"
     ]
    },
    {
     "name": "stdout",
     "output_type": "stream",
     "text": [
      "CPU times: user 445 ms, sys: 616 ms, total: 1.06 s\n",
      "Wall time: 5.9 s\n"
     ]
    },
    {
     "data": {
      "text/plain": [
       "GridSearchCVProgressBar(cv=3, estimator=MultinomialNB(), n_jobs=16,\n",
       "                        param_grid={'alpha': [1, 0.1, 0.01, 0.001, 0.0001,\n",
       "                                              1e-05, 1e-06]},\n",
       "                        scoring='roc_auc', verbose=5)"
      ]
     },
     "execution_count": 39,
     "metadata": {},
     "output_type": "execute_result"
    }
   ],
   "source": [
    "%%time\n",
    "parameters_nb = {'alpha': [1, 1e-1, 1e-2, 1e-3, 1e-4, 1e-5, 1e-6]}\n",
    "NaiveBayes = MultinomialNB()\n",
    "grid_cv_nb = GridSearchCV(NaiveBayes, parameters_nb, cv=3, scoring='roc_auc', verbose=5, n_jobs=cpu_count())\n",
    "grid_cv_nb.fit(X_train, y_train)"
   ]
  },
  {
   "cell_type": "code",
   "execution_count": 46,
   "metadata": {},
   "outputs": [
    {
     "data": {
      "text/plain": [
       "{'alpha': 0.01}"
      ]
     },
     "execution_count": 46,
     "metadata": {},
     "output_type": "execute_result"
    }
   ],
   "source": [
    "grid_cv_nb.best_params_"
   ]
  },
  {
   "cell_type": "code",
   "execution_count": 32,
   "metadata": {},
   "outputs": [],
   "source": [
    "nb_params = {'alpha': 0.01}"
   ]
  },
  {
   "cell_type": "code",
   "execution_count": 33,
   "metadata": {},
   "outputs": [
    {
     "data": {
      "text/plain": [
       "MultinomialNB(alpha=0.01)"
      ]
     },
     "execution_count": 33,
     "metadata": {},
     "output_type": "execute_result"
    }
   ],
   "source": [
    "naive_bayes = MultinomialNB(**nb_params)\n",
    "naive_bayes.fit(X_train_text, y_train)"
   ]
  },
  {
   "cell_type": "code",
   "execution_count": 41,
   "metadata": {},
   "outputs": [],
   "source": [
    "with open('../lib/models/naive_bayes.pickle', 'wb') as f:\n",
    "    pickle_dump(naive_bayes, f)\n",
    "    f.close()"
   ]
  },
  {
   "cell_type": "code",
   "execution_count": 16,
   "metadata": {},
   "outputs": [],
   "source": [
    "with open('../lib/models/naive_bayes.pickle', 'rb') as f:\n",
    "    naive_bayes = pickle_load(f)\n",
    "    f.close()"
   ]
  },
  {
   "cell_type": "code",
   "execution_count": 35,
   "metadata": {},
   "outputs": [
    {
     "name": "stdout",
     "output_type": "stream",
     "text": [
      "Categories table:\n",
      "| Category             | Type   |      AUC |       f1 |   accuracy |\n",
      "|----------------------+--------+----------+----------+------------|\n",
      "| nedvizhimost'        | train  | 0.971003 | 0.817283 |   0.831864 |\n",
      "| bytovaja_elektronika | train  | 0.960092 | 0.797805 |   0.952038 |\n",
      "| transport            | train  | 0.983468 | 0.895895 |   0.943744 |\n",
      "| zhivotnye            | train  | 0.964057 | 0.802991 |   0.751323 |\n",
      "| rabota               | train  | 0.923818 | 0.784402 |   0.847083 |\n",
      "| lichnye_veschi       | train  | 0.939711 | 0.75886  |   0.946201 |\n",
      "| dlja_doma_i_dachi    | train  | 0.959698 | 0.848667 |   0.939028 |\n",
      "| hobbi_i_otdyh        | train  | 0.965777 | 0.839153 |   0.950992 |\n",
      "| uslugi               | train  | 0.935246 | 0.846308 |   0.854385 |\n",
      "| dlja_biznesa         | train  | 0.94959  | 0.739379 |   0.937075 |\n",
      "| transport            | val    | 0.909726 | 0.672708 |   0.84652  |\n",
      "| nedvizhimost'        | val    | 0.872301 | 0.728861 |   0.751297 |\n",
      "| dlja_doma_i_dachi    | val    | 0.827191 | 0.510978 |   0.843325 |\n",
      "| bytovaja_elektronika | val    | 0.857188 | 0.462271 |   0.891017 |\n",
      "| lichnye_veschi       | val    | 0.790185 | 0.374488 |   0.890918 |\n",
      "| uslugi               | val    | 0.810161 | 0.681411 |   0.726492 |\n",
      "| rabota               | val    | 0.784065 | 0.616874 |   0.718782 |\n",
      "| zhivotnye            | val    | 0.764429 | 0.739529 |   0.664418 |\n",
      "| hobbi_i_otdyh        | val    | 0.793854 | 0.456839 |   0.866905 |\n",
      "| dlja_biznesa         | val    | 0.798202 | 0.5      |   0.897541 |\n",
      " _____________________________________________\n",
      ".____________________________________________.>\n",
      "Overall table:\n",
      "| Dataset   |      AUC |       f1 |   accuracy |\n",
      "|-----------+----------+----------+------------|\n",
      "| train     | 0.961182 | 0.834473 |    0.92347 |\n",
      "| val       | 0.862883 | 0.617859 |    0.84243 |\n"
     ]
    }
   ],
   "source": [
    "metrics_printer(X_train_text, X_val_text, y_train, y_val, df_train, df_val, naive_bayes, ['train', 'val'])"
   ]
  },
  {
   "cell_type": "markdown",
   "metadata": {},
   "source": [
    "## Обучим Random Forest над SVD\n",
    "Ну и т.к. деревья плохо работают с разреженными матрицами, сделаем SVD-разложение над TF-IDF."
   ]
  },
  {
   "cell_type": "code",
   "execution_count": 20,
   "metadata": {},
   "outputs": [
    {
     "name": "stdout",
     "output_type": "stream",
     "text": [
      "CPU times: user 3min, sys: 35 s, total: 3min 35s\n",
      "Wall time: 1min 21s\n"
     ]
    }
   ],
   "source": [
    "%%time\n",
    "svd = TruncatedSVD(n_components=100)\n",
    "X_svd = svd.fit_transform(X_train_text)"
   ]
  },
  {
   "cell_type": "code",
   "execution_count": null,
   "metadata": {},
   "outputs": [],
   "source": [
    "random_forest = RandomForestClassifier()\n",
    "param_grid = {\n",
    "    'n_estimators': [150, 200, 250],\n",
    "    'max_depth': [40, 50, 60],\n",
    "}\n",
    "rf_search = GridSearchCV(random_forest, param_grid, scoring='roc_auc', n_jobs=cpu_count(), verbose=10)\n",
    "rf_search.fit(X_svd, y_train)\n",
    "print(\"Best parameter (CV score=%0.3f):\" % rf_search.best_score_)\n",
    "print(rf_search.best_params_)"
   ]
  },
  {
   "cell_type": "code",
   "execution_count": null,
   "metadata": {},
   "outputs": [],
   "source": [
    "rf_search.best_params_"
   ]
  },
  {
   "cell_type": "code",
   "execution_count": 24,
   "metadata": {},
   "outputs": [],
   "source": [
    "best_params = {\n",
    "    'random_forest__max_depth': 40,\n",
    "    'random_forest__n_estimators': 250,\n",
    "    'random_forest__n_jobs': cpu_count(),\n",
    "}"
   ]
  },
  {
   "cell_type": "code",
   "execution_count": 25,
   "metadata": {},
   "outputs": [
    {
     "data": {
      "text/plain": [
       "Pipeline(steps=[('svd', TruncatedSVD(n_components=100)),\n",
       "                ('random_forest',\n",
       "                 RandomForestClassifier(max_depth=40, n_estimators=250,\n",
       "                                        n_jobs=16))])"
      ]
     },
     "execution_count": 25,
     "metadata": {},
     "output_type": "execute_result"
    }
   ],
   "source": [
    "random_forest = RandomForestClassifier()\n",
    "rf_pipeline = Pipeline(steps=[('svd', svd), ('random_forest', random_forest)])\n",
    "rf_pipeline.set_params(**best_params)"
   ]
  },
  {
   "cell_type": "code",
   "execution_count": 26,
   "metadata": {},
   "outputs": [
    {
     "name": "stdout",
     "output_type": "stream",
     "text": [
      "CPU times: user 1h 12min 42s, sys: 30 s, total: 1h 13min 12s\n",
      "Wall time: 5min 45s\n"
     ]
    },
    {
     "data": {
      "text/plain": [
       "Pipeline(steps=[('svd', TruncatedSVD(n_components=100)),\n",
       "                ('random_forest',\n",
       "                 RandomForestClassifier(max_depth=40, n_estimators=250,\n",
       "                                        n_jobs=16))])"
      ]
     },
     "execution_count": 26,
     "metadata": {},
     "output_type": "execute_result"
    }
   ],
   "source": [
    "%%time\n",
    "rf_pipeline.fit(X_train_text, y_train)"
   ]
  },
  {
   "cell_type": "code",
   "execution_count": 32,
   "metadata": {},
   "outputs": [],
   "source": [
    "with open('../lib/models/random_forest.pickle', 'wb') as f:\n",
    "    pickle_dump(rf_pipeline, f)\n",
    "    f.close()"
   ]
  },
  {
   "cell_type": "code",
   "execution_count": 31,
   "metadata": {},
   "outputs": [],
   "source": [
    "with open(\"../lib/models/random_forest.pickle\", \"rb\") as f:\n",
    "    rf_pipeline = pickle_load(f)\n",
    "    f.close()"
   ]
  },
  {
   "cell_type": "markdown",
   "metadata": {},
   "source": [
    "## Посмотрим на метрички моделей"
   ]
  },
  {
   "cell_type": "code",
   "execution_count": 46,
   "metadata": {},
   "outputs": [
    {
     "name": "stdout",
     "output_type": "stream",
     "text": [
      "NAIVE BAYES BY CATEGORY\n",
      "Categories table:\n",
      "| Category             | Type   |      AUC |       f1 |   accuracy |\n",
      "|----------------------+--------+----------+----------+------------|\n",
      "| transport            | test   | 0.955143 | 0.680882 |   0.842096 |\n",
      "| dlja_biznesa         | test   | 0.851259 | 0.390244 |   0.913495 |\n",
      "| dlja_doma_i_dachi    | test   | 0.890658 | 0.536204 |   0.876434 |\n",
      "| lichnye_veschi       | test   | 0.744132 | 0.252874 |   0.889518 |\n",
      "| uslugi               | test   | 0.715488 | 0.559292 |   0.629464 |\n",
      "| bytovaja_elektronika | test   | 0.891001 | 0.282158 |   0.937948 |\n",
      "| nedvizhimost'        | test   | 0.810619 | 0.694633 |   0.71827  |\n",
      "| hobbi_i_otdyh        | test   | 0.810228 | 0.377358 |   0.917189 |\n",
      "| rabota               | test   | 0.678244 | 0.59887  |   0.608456 |\n",
      "| zhivotnye            | test   | 0.698594 | 0.714829 |   0.642857 |\n",
      "| transport            | val    | 0.909726 | 0.672708 |   0.84652  |\n",
      "| nedvizhimost'        | val    | 0.872301 | 0.728861 |   0.751297 |\n",
      "| dlja_doma_i_dachi    | val    | 0.827191 | 0.510978 |   0.843325 |\n",
      "| bytovaja_elektronika | val    | 0.857188 | 0.462271 |   0.891017 |\n",
      "| lichnye_veschi       | val    | 0.790185 | 0.374488 |   0.890918 |\n",
      "| uslugi               | val    | 0.810161 | 0.681411 |   0.726492 |\n",
      "| rabota               | val    | 0.784065 | 0.616874 |   0.718782 |\n",
      "| zhivotnye            | val    | 0.764429 | 0.739529 |   0.664418 |\n",
      "| hobbi_i_otdyh        | val    | 0.793854 | 0.456839 |   0.866905 |\n",
      "| dlja_biznesa         | val    | 0.798202 | 0.5      |   0.897541 |\n",
      " _____________________________________________\n",
      ".____________________________________________.>\n",
      "Overall table:\n",
      "| Dataset   |      AUC |       f1 |   accuracy |\n",
      "|-----------+----------+----------+------------|\n",
      "| test      | 0.905653 | 0.621574 |   0.840118 |\n",
      "| val       | 0.862883 | 0.617859 |   0.84243  |\n"
     ]
    }
   ],
   "source": [
    "print(\"NAIVE BAYES BY CATEGORY\")\n",
    "metrics_printer(X_test_text, X_val_text, y_test, y_val, df_test, df_val, naive_bayes, ['test', 'val'])"
   ]
  },
  {
   "cell_type": "code",
   "execution_count": 47,
   "metadata": {},
   "outputs": [
    {
     "name": "stdout",
     "output_type": "stream",
     "text": [
      "LOGISTIC REGRESSION BY CATEGORY\n",
      "Categories table:\n",
      "| Category             | Type   |      AUC |       f1 |   accuracy |\n",
      "|----------------------+--------+----------+----------+------------|\n",
      "| transport            | test   | 0.967385 | 0.800268 |   0.891395 |\n",
      "| dlja_biznesa         | test   | 0.845865 | 0.561404 |   0.913495 |\n",
      "| dlja_doma_i_dachi    | test   | 0.899725 | 0.68652  |   0.895725 |\n",
      "| lichnye_veschi       | test   | 0.853649 | 0.532934 |   0.911615 |\n",
      "| uslugi               | test   | 0.855622 | 0.734043 |   0.776786 |\n",
      "| bytovaja_elektronika | test   | 0.917485 | 0.474576 |   0.933286 |\n",
      "| nedvizhimost'        | test   | 0.877664 | 0.685157 |   0.760956 |\n",
      "| hobbi_i_otdyh        | test   | 0.847091 | 0.430556 |   0.897114 |\n",
      "| rabota               | test   | 0.823418 | 0.711864 |   0.75     |\n",
      "| zhivotnye            | test   | 0.844172 | 0.753488 |   0.747619 |\n",
      "| transport            | val    | 0.955289 | 0.815977 |   0.90864  |\n",
      "| nedvizhimost'        | val    | 0.943069 | 0.843215 |   0.887789 |\n",
      "| dlja_doma_i_dachi    | val    | 0.913248 | 0.76521  |   0.908074 |\n",
      "| bytovaja_elektronika | val    | 0.922234 | 0.722051 |   0.925324 |\n",
      "| lichnye_veschi       | val    | 0.899297 | 0.673068 |   0.927041 |\n",
      "| uslugi               | val    | 0.901576 | 0.796706 |   0.821429 |\n",
      "| rabota               | val    | 0.881489 | 0.751497 |   0.831472 |\n",
      "| zhivotnye            | val    | 0.923214 | 0.868771 |   0.866779 |\n",
      "| hobbi_i_otdyh        | val    | 0.885381 | 0.67234  |   0.899772 |\n",
      "| dlja_biznesa         | val    | 0.8317   | 0.592593 |   0.909836 |\n",
      " _____________________________________________\n",
      ".____________________________________________.>\n",
      "Overall table:\n",
      "| Dataset   |      AUC |       f1 |   accuracy |\n",
      "|-----------+----------+----------+------------|\n",
      "| test      | 0.923742 | 0.717645 |   0.876517 |\n",
      "| val       | 0.932624 | 0.779187 |   0.905647 |\n"
     ]
    }
   ],
   "source": [
    "print(\"LOGISTIC REGRESSION BY CATEGORY\")\n",
    "metrics_printer(X_test_text, X_val_text, y_test, y_val, df_test, df_val, logreg, ['test', 'val'])"
   ]
  },
  {
   "cell_type": "code",
   "execution_count": 48,
   "metadata": {},
   "outputs": [
    {
     "name": "stdout",
     "output_type": "stream",
     "text": [
      "RANDOM FOREST BY CATEGORY\n",
      "Categories table:\n",
      "| Category             | Type   |      AUC |       f1 |   accuracy |\n",
      "|----------------------+--------+----------+----------+------------|\n",
      "| transport            | test   | 0.95466  | 0.704587 |   0.853556 |\n",
      "| dlja_biznesa         | test   | 0.803776 | 0.578947 |   0.944637 |\n",
      "| dlja_doma_i_dachi    | test   | 0.863622 | 0.587121 |   0.88634  |\n",
      "| lichnye_veschi       | test   | 0.774427 | 0.290598 |   0.905949 |\n",
      "| uslugi               | test   | 0.79325  | 0.543933 |   0.675595 |\n",
      "| bytovaja_elektronika | test   | 0.853378 | 0.322314 |   0.941176 |\n",
      "| nedvizhimost'        | test   | 0.715688 | 0.517155 |   0.671599 |\n",
      "| hobbi_i_otdyh        | test   | 0.817962 | 0.465116 |   0.942284 |\n",
      "| rabota               | test   | 0.718336 | 0.518337 |   0.637868 |\n",
      "| zhivotnye            | test   | 0.819819 | 0.706468 |   0.719048 |\n",
      "| transport            | val    | 0.935876 | 0.727313 |   0.876872 |\n",
      "| nedvizhimost'        | val    | 0.892311 | 0.732906 |   0.823197 |\n",
      "| dlja_doma_i_dachi    | val    | 0.870086 | 0.586139 |   0.866347 |\n",
      "| bytovaja_elektronika | val    | 0.864339 | 0.452174 |   0.887159 |\n",
      "| lichnye_veschi       | val    | 0.850613 | 0.348193 |   0.889592 |\n",
      "| uslugi               | val    | 0.836516 | 0.639188 |   0.726944 |\n",
      "| rabota               | val    | 0.836381 | 0.590909 |   0.762437 |\n",
      "| zhivotnye            | val    | 0.875485 | 0.788194 |   0.794266 |\n",
      "| hobbi_i_otdyh        | val    | 0.850909 | 0.501348 |   0.879596 |\n",
      "| dlja_biznesa         | val    | 0.833911 | 0.527473 |   0.911885 |\n",
      " _____________________________________________\n",
      ".____________________________________________.>\n",
      "Overall table:\n",
      "| Dataset   |      AUC |      f1 |   accuracy |\n",
      "|-----------+----------+---------+------------|\n",
      "| test      | 0.885351 | 0.59811 |   0.848125 |\n",
      "| val       | 0.897071 | 0.62829 |   0.863407 |\n"
     ]
    }
   ],
   "source": [
    "print(\"RANDOM FOREST BY CATEGORY\")\n",
    "metrics_printer(X_test_text, X_val_text, y_test, y_val, df_test, df_val, rf_pipeline, ['test', 'val'])"
   ]
  },
  {
   "cell_type": "markdown",
   "metadata": {},
   "source": [
    "Уже неплохо, но бейзлайн не все модельки бьют"
   ]
  },
  {
   "cell_type": "markdown",
   "metadata": {},
   "source": [
    "## Stacking\n",
    "Давайте-ка сверху накатим катбуст и дадим ему наш предобработанный массив: у нас есть данные про время, цену, результат применения регулярных выражений и категориях"
   ]
  },
  {
   "cell_type": "code",
   "execution_count": 49,
   "metadata": {},
   "outputs": [],
   "source": [
    "prediction_cols = ['logreg', 'naive_bayes', 'random_forest']\n",
    "columns_no_text = ['time', 'price'] + categories + regexp_names + prediction_cols"
   ]
  },
  {
   "cell_type": "code",
   "execution_count": 33,
   "metadata": {},
   "outputs": [
    {
     "name": "stdout",
     "output_type": "stream",
     "text": [
      "CPU times: user 2min 55s, sys: 504 ms, total: 2min 56s\n",
      "Wall time: 14 s\n"
     ]
    }
   ],
   "source": [
    "%%time\n",
    "logreg_probas_train = logreg.predict_proba(X_train_text)\n",
    "nb_probas_train = naive_bayes.predict_proba(X_train_text)\n",
    "rf_probas_train = rf_pipeline.predict_proba(X_train_text)\n",
    "\n",
    "df_train[prediction_cols] = vstack([item[:,1].T for item in [logreg_probas_train, nb_probas_train, rf_probas_train]]).T\n",
    "X_train_no_text = df_train[columns_no_text]"
   ]
  },
  {
   "cell_type": "code",
   "execution_count": 85,
   "metadata": {},
   "outputs": [],
   "source": [
    "logreg_probas_test = logreg.predict_proba(X_test_text)\n",
    "nb_probas_test = naive_bayes.predict_proba(X_test_text)\n",
    "rf_probas_test = rf_pipeline.predict_proba(X_test_text)\n",
    "\n",
    "df_test[prediction_cols] = vstack([item[:,1].T for item in [logreg_probas_test, nb_probas_test, rf_probas_test]]).T\n",
    "X_test_no_text = df_test[columns_no_text]"
   ]
  },
  {
   "cell_type": "code",
   "execution_count": 86,
   "metadata": {},
   "outputs": [],
   "source": [
    "logreg_probas_val = logreg.predict_proba(X_val_text)\n",
    "nb_probas_val = naive_bayes.predict_proba(X_val_text)\n",
    "rf_probas_val = rf_pipeline.predict_proba(X_val_text)\n",
    "\n",
    "df_val[prediction_cols] = vstack([item[:,1].T for item in [logreg_probas_val, nb_probas_val, rf_probas_val]]).T\n",
    "X_val_no_text = df_val[columns_no_text]"
   ]
  },
  {
   "cell_type": "code",
   "execution_count": 110,
   "metadata": {},
   "outputs": [],
   "source": [
    "cols_to_drop = ['time', 'random_forest', 'impulse_description', 'subcategory', 'phone_description', 'category', 'region', 'social_media_description']\n",
    "cols_to_drop_2 = ['price', 'site_description', 'phone_normal_title', 'social_media_title', 'home_phone_title', 'phone_title', 'phone_operators_title', 'phone_biased_title', 'youtube_title']\n",
    "cols_to_drop_3 = ['city', 'site_title', 'email_title']\n",
    "cols_to_drop.extend(cols_to_drop_2, cols_to_drop_3)\n",
    "\n",
    "categories_cb = set(categories).difference(cols_to_drop)\n",
    "\n",
    "X_train_no_text = X_train_no_text.drop(cols_to_drop, axis=1)\n",
    "X_test_no_text = X_test_no_text.drop(cols_to_drop, axis=1)\n",
    "X_val_no_text = X_val_no_text.drop(cols_to_drop, axis=1)"
   ]
  },
  {
   "cell_type": "code",
   "execution_count": 189,
   "metadata": {},
   "outputs": [],
   "source": [
    "cols_to_drop = ['time', 'random_forest', 'impulse_description', 'subcategory', 'phone_description', 'category', 'region', 'social_media_description']\n",
    "cols_to_drop_2 = ['price', 'site_description', 'phone_normal_title', 'social_media_title', 'home_phone_title', 'phone_title', 'phone_operators_title', 'phone_biased_title', 'youtube_title']\n",
    "cols_to_drop_3 = ['city', 'site_title', 'email_title']\n",
    "cols_to_drop.extend(cols_to_drop_2)\n",
    "cols_to_drop.extend(cols_to_drop_3)\n",
    "\n",
    "categories_cb = set(categories).difference(cols_to_drop)"
   ]
  },
  {
   "cell_type": "markdown",
   "metadata": {},
   "source": [
    "### Тут я повыкидывал фичи\n",
    "Выкинул все с отрицательным `feature_importance`, после чего модель стала работать заметно лучше"
   ]
  },
  {
   "cell_type": "code",
   "execution_count": 132,
   "metadata": {},
   "outputs": [],
   "source": [
    "train_pool = Pool(data=X_train_no_text, label=y_train, cat_features=categories_cb)\n",
    "test_pool = Pool(data=X_test_no_text, label=y_test, cat_features=categories_cb)\n",
    "val_pool = Pool(data=X_val_no_text, label=y_val, cat_features=categories_cb)"
   ]
  },
  {
   "cell_type": "code",
   "execution_count": 190,
   "metadata": {},
   "outputs": [],
   "source": [
    "train_pool_text = Pool(data=df_train.drop(set(categories).union(cols_to_drop), axis=1).drop(['logreg', 'naive_bayes'], axis=1), label=y_train, text_features=['title_and_description'])\n",
    "test_pool_text = Pool(data=df_test.drop(set(categories).union(cols_to_drop), axis=1).drop(['logreg', 'naive_bayes'], axis=1), label=y_test, text_features=['title_and_description'])\n",
    "val_pool_text = Pool(data=df_val.drop(set(categories).union(cols_to_drop), axis=1).drop(['logreg', 'naive_bayes'], axis=1), label=y_val, text_features=['title_and_description'])"
   ]
  },
  {
   "cell_type": "code",
   "execution_count": 196,
   "metadata": {},
   "outputs": [],
   "source": [
    "catboost = CatBoostClassifier(\n",
    "    iterations=1000,\n",
    "    learning_rate=0.01,\n",
    "    random_strength=0.01,\n",
    "    depth=8,\n",
    "    l2_leaf_reg=6,\n",
    "    eval_metric='AUC',\n",
    "#     leaf_estimation_method='Newton',\n",
    "    verbose=0,\n",
    "    task_type='GPU',\n",
    "    devices='0',\n",
    ")"
   ]
  },
  {
   "cell_type": "code",
   "execution_count": null,
   "metadata": {
    "scrolled": false
   },
   "outputs": [],
   "source": [
    "grid = {\n",
    "    'learning_rate': [0.01, 0.03, 0.07, 0.1],\n",
    "    'l2_leaf_reg': [10, 15],\n",
    "}\n",
    "\n",
    "grid_search_result = catboost.grid_search(\n",
    "    grid, X=train_pool, verbose=1, cv=5, plot=True,\n",
    ")"
   ]
  },
  {
   "cell_type": "code",
   "execution_count": 203,
   "metadata": {},
   "outputs": [
    {
     "name": "stderr",
     "output_type": "stream",
     "text": [
      "Custom logger is already specified. Specify more than one logger at same time is not thread safe."
     ]
    },
    {
     "data": {
      "application/vnd.jupyter.widget-view+json": {
       "model_id": "7713930ab37f49cd8ef68ae98ab74f34",
       "version_major": 2,
       "version_minor": 0
      },
      "text/plain": [
       "MetricVisualizer(layout=Layout(align_self='stretch', height='500px'))"
      ]
     },
     "metadata": {},
     "output_type": "display_data"
    },
    {
     "name": "stdout",
     "output_type": "stream",
     "text": [
      "0:\ttest: 0.9146290\tbest: 0.9146290 (0)\ttotal: 280ms\tremaining: 4m 39s\n",
      "100:\ttest: 0.9593407\tbest: 0.9593407 (100)\ttotal: 26s\tremaining: 3m 51s\n",
      "200:\ttest: 0.9640006\tbest: 0.9640006 (200)\ttotal: 50.9s\tremaining: 3m 22s\n",
      "300:\ttest: 0.9662385\tbest: 0.9662385 (300)\ttotal: 1m 14s\tremaining: 2m 54s\n",
      "400:\ttest: 0.9676950\tbest: 0.9676950 (400)\ttotal: 1m 38s\tremaining: 2m 27s\n",
      "500:\ttest: 0.9687266\tbest: 0.9687266 (500)\ttotal: 2m 2s\tremaining: 2m 2s\n",
      "600:\ttest: 0.9694828\tbest: 0.9694828 (600)\ttotal: 2m 25s\tremaining: 1m 36s\n",
      "700:\ttest: 0.9700675\tbest: 0.9700675 (700)\ttotal: 2m 49s\tremaining: 1m 12s\n",
      "800:\ttest: 0.9706713\tbest: 0.9706713 (800)\ttotal: 3m 12s\tremaining: 47.7s\n",
      "900:\ttest: 0.9710795\tbest: 0.9710795 (900)\ttotal: 3m 35s\tremaining: 23.6s\n",
      "999:\ttest: 0.9713814\tbest: 0.9713832 (998)\ttotal: 3m 58s\tremaining: 0us\n",
      "\n",
      "bestTest = 0.9713832082\n",
      "bestIteration = 998\n",
      "\n",
      "Shrink model to first 999 iterations.\n"
     ]
    },
    {
     "data": {
      "text/plain": [
       "<catboost.core.CatBoostClassifier at 0x7f97f4b81340>"
      ]
     },
     "execution_count": 203,
     "metadata": {},
     "output_type": "execute_result"
    }
   ],
   "source": [
    "catboost = CatBoostClassifier(\n",
    "    iterations=1000,\n",
    "    learning_rate=0.1,\n",
    "    random_strength=0.01,\n",
    "    depth=8,\n",
    "    l2_leaf_reg=15,\n",
    "    eval_metric='AUC',\n",
    "    verbose=100,\n",
    "    task_type='CPU',\n",
    "    thread_count=cpu_count(),\n",
    ")\n",
    "catboost.fit(train_pool_text, plot=True, eval_set=val_pool_text)"
   ]
  },
  {
   "cell_type": "code",
   "execution_count": 135,
   "metadata": {},
   "outputs": [
    {
     "name": "stdout",
     "output_type": "stream",
     "text": [
      "Categories table:\n",
      "| Category             | Type   |      AUC |       f1 |   accuracy |\n",
      "|----------------------+--------+----------+----------+------------|\n",
      "| transport            | test   | 0.974439 | 0.856961 |   0.918137 |\n",
      "| dlja_biznesa         | test   | 0.81252  | 0.545455 |   0.913495 |\n",
      "| dlja_doma_i_dachi    | test   | 0.900591 | 0.695522 |   0.893639 |\n",
      "| lichnye_veschi       | test   | 0.819764 | 0.523077 |   0.912181 |\n",
      "| uslugi               | test   | 0.815251 | 0.729412 |   0.760417 |\n",
      "| bytovaja_elektronika | test   | 0.919574 | 0.423313 |   0.932568 |\n",
      "| nedvizhimost'        | test   | 0.890941 | 0.79082  |   0.818441 |\n",
      "| hobbi_i_otdyh        | test   | 0.827621 | 0.425    |   0.884567 |\n",
      "| rabota               | test   | 0.865822 | 0.739958 |   0.773897 |\n",
      "| zhivotnye            | test   | 0.88263  | 0.825112 |   0.814286 |\n",
      "| transport            | val    | 0.97233  | 0.861325 |   0.929077 |\n",
      "| nedvizhimost'        | val    | 0.963742 | 0.889095 |   0.91537  |\n",
      "| dlja_doma_i_dachi    | val    | 0.942671 | 0.795171 |   0.918625 |\n",
      "| bytovaja_elektronika | val    | 0.940876 | 0.728051 |   0.930008 |\n",
      "| lichnye_veschi       | val    | 0.950007 | 0.688847 |   0.932245 |\n",
      "| uslugi               | val    | 0.933823 | 0.842157 |   0.855787 |\n",
      "| rabota               | val    | 0.918091 | 0.79708  |   0.858883 |\n",
      "| zhivotnye            | val    | 0.972503 | 0.918033 |   0.911467 |\n",
      "| hobbi_i_otdyh        | val    | 0.915554 | 0.702355 |   0.909535 |\n",
      "| dlja_biznesa         | val    | 0.855063 | 0.629032 |   0.905738 |\n",
      " _____________________________________________\n",
      ".____________________________________________.>\n",
      "Overall table:\n",
      "| Dataset   |      AUC |       f1 |   accuracy |\n",
      "|-----------+----------+----------+------------|\n",
      "| test      | 0.935328 | 0.765804 |   0.891852 |\n",
      "| val       | 0.955502 | 0.81699  |   0.920058 |\n"
     ]
    }
   ],
   "source": [
    "metrics_printer(X_test_no_text, X_val_no_text, y_test, y_val, df_test, df_val, catboost, ['test', 'val'])"
   ]
  },
  {
   "cell_type": "code",
   "execution_count": 192,
   "metadata": {},
   "outputs": [
    {
     "name": "stdout",
     "output_type": "stream",
     "text": [
      "Categories table:\n",
      "| Category             | Type   |      AUC |       f1 |   accuracy |\n",
      "|----------------------+--------+----------+----------+------------|\n",
      "| transport            | test   | 0.982713 | 0.894915 |   0.937966 |\n",
      "| dlja_biznesa         | test   | 0.874959 | 0.586207 |   0.916955 |\n",
      "| dlja_doma_i_dachi    | test   | 0.924983 | 0.779911 |   0.922315 |\n",
      "| lichnye_veschi       | test   | 0.831717 | 0.614251 |   0.911048 |\n",
      "| uslugi               | test   | 0.847534 | 0.752166 |   0.787202 |\n",
      "| bytovaja_elektronika | test   | 0.941605 | 0.56213  |   0.946915 |\n",
      "| nedvizhimost'        | test   | 0.902552 | 0.743484 |   0.787137 |\n",
      "| hobbi_i_otdyh        | test   | 0.903458 | 0.484848 |   0.89335  |\n",
      "| rabota               | test   | 0.856772 | 0.719457 |   0.772059 |\n",
      "| zhivotnye            | test   | 0.910113 | 0.833333 |   0.838095 |\n",
      "| transport            | val    | 0.980878 | 0.898255 |   0.947491 |\n",
      "| nedvizhimost'        | val    | 0.975228 | 0.910998 |   0.933993 |\n",
      "| dlja_doma_i_dachi    | val    | 0.960495 | 0.843543 |   0.935891 |\n",
      "| bytovaja_elektronika | val    | 0.961195 | 0.843291 |   0.955911 |\n",
      "| lichnye_veschi       | val    | 0.969208 | 0.831027 |   0.958878 |\n",
      "| uslugi               | val    | 0.951167 | 0.878955 |   0.891049 |\n",
      "| rabota               | val    | 0.916911 | 0.770898 |   0.849746 |\n",
      "| zhivotnye            | val    | 0.982047 | 0.959547 |   0.957841 |\n",
      "| hobbi_i_otdyh        | val    | 0.957514 | 0.824847 |   0.944029 |\n",
      "| dlja_biznesa         | val    | 0.887972 | 0.649573 |   0.915984 |\n",
      " _____________________________________________\n",
      ".____________________________________________.>\n",
      "Overall table:\n",
      "| Dataset   |      AUC |       f1 |   accuracy |\n",
      "|-----------+----------+----------+------------|\n",
      "| test      | 0.944196 | 0.791441 |   0.902753 |\n",
      "| val       | 0.971523 | 0.872582 |   0.943261 |\n"
     ]
    }
   ],
   "source": [
    "metrics_printer(df_test.drop(set(categories).union(cols_to_drop), axis=1).drop(['logreg', 'naive_bayes'], axis=1), df_val.drop(set(categories).union(cols_to_drop), axis=1).drop(['logreg', 'naive_bayes'], axis=1), y_test, y_val, df_test, df_val, catboost, ['test', 'val'])"
   ]
  },
  {
   "cell_type": "code",
   "execution_count": 204,
   "metadata": {},
   "outputs": [
    {
     "name": "stdout",
     "output_type": "stream",
     "text": [
      "Categories table:\n",
      "| Category             | Type   |      AUC |       f1 |   accuracy |\n",
      "|----------------------+--------+----------+----------+------------|\n",
      "| transport            | test   | 0.982273 | 0.895256 |   0.938148 |\n",
      "| dlja_biznesa         | test   | 0.86744  | 0.551724 |   0.910035 |\n",
      "| dlja_doma_i_dachi    | test   | 0.925065 | 0.771723 |   0.919187 |\n",
      "| lichnye_veschi       | test   | 0.830585 | 0.607843 |   0.909348 |\n",
      "| uslugi               | test   | 0.846278 | 0.759099 |   0.793155 |\n",
      "| bytovaja_elektronika | test   | 0.940853 | 0.56305  |   0.946557 |\n",
      "| nedvizhimost'        | test   | 0.903055 | 0.746228 |   0.789414 |\n",
      "| hobbi_i_otdyh        | test   | 0.904997 | 0.494118 |   0.892095 |\n",
      "| rabota               | test   | 0.858516 | 0.725624 |   0.777574 |\n",
      "| zhivotnye            | test   | 0.911111 | 0.829268 |   0.833333 |\n",
      "| transport            | val    | 0.980883 | 0.900216 |   0.948503 |\n",
      "| nedvizhimost'        | val    | 0.975121 | 0.911746 |   0.934465 |\n",
      "| dlja_doma_i_dachi    | val    | 0.960401 | 0.851493 |   0.938769 |\n",
      "| bytovaja_elektronika | val    | 0.95999  | 0.842362 |   0.955497 |\n",
      "| lichnye_veschi       | val    | 0.969218 | 0.832845 |   0.959286 |\n",
      "| uslugi               | val    | 0.950256 | 0.880881 |   0.892405 |\n",
      "| rabota               | val    | 0.918445 | 0.771384 |   0.850761 |\n",
      "| zhivotnye            | val    | 0.981528 | 0.958637 |   0.956998 |\n",
      "| hobbi_i_otdyh        | val    | 0.957867 | 0.822927 |   0.943703 |\n",
      "| dlja_biznesa         | val    | 0.894605 | 0.655462 |   0.915984 |\n",
      " _____________________________________________\n",
      ".____________________________________________.>\n",
      "Overall table:\n",
      "| Dataset   |      AUC |       f1 |   accuracy |\n",
      "|-----------+----------+----------+------------|\n",
      "| test      | 0.944089 | 0.791507 |   0.90263  |\n",
      "| val       | 0.971383 | 0.874382 |   0.943988 |\n"
     ]
    }
   ],
   "source": [
    "metrics_printer(df_test.drop(set(categories).union(cols_to_drop), axis=1).drop(['logreg', 'naive_bayes'], axis=1), df_val.drop(set(categories).union(cols_to_drop), axis=1).drop(['logreg', 'naive_bayes'], axis=1), y_test, y_val, df_test, df_val, catboost, ['test', 'val'])"
   ]
  },
  {
   "cell_type": "code",
   "execution_count": 205,
   "metadata": {},
   "outputs": [
    {
     "data": {
      "text/html": [
       "<div>\n",
       "<style scoped>\n",
       "    .dataframe tbody tr th:only-of-type {\n",
       "        vertical-align: middle;\n",
       "    }\n",
       "\n",
       "    .dataframe tbody tr th {\n",
       "        vertical-align: top;\n",
       "    }\n",
       "\n",
       "    .dataframe thead th {\n",
       "        text-align: right;\n",
       "    }\n",
       "</style>\n",
       "<table border=\"1\" class=\"dataframe\">\n",
       "  <thead>\n",
       "    <tr style=\"text-align: right;\">\n",
       "      <th></th>\n",
       "      <th>Feature Id</th>\n",
       "      <th>Importances</th>\n",
       "    </tr>\n",
       "  </thead>\n",
       "  <tbody>\n",
       "    <tr>\n",
       "      <th>0</th>\n",
       "      <td>title_and_description</td>\n",
       "      <td>0.247596</td>\n",
       "    </tr>\n",
       "    <tr>\n",
       "      <th>1</th>\n",
       "      <td>phone_normal_description</td>\n",
       "      <td>0.016012</td>\n",
       "    </tr>\n",
       "    <tr>\n",
       "      <th>2</th>\n",
       "      <td>home_phone_description</td>\n",
       "      <td>0.014952</td>\n",
       "    </tr>\n",
       "    <tr>\n",
       "      <th>3</th>\n",
       "      <td>phone_biased_description</td>\n",
       "      <td>0.004366</td>\n",
       "    </tr>\n",
       "    <tr>\n",
       "      <th>4</th>\n",
       "      <td>email_description</td>\n",
       "      <td>0.000818</td>\n",
       "    </tr>\n",
       "    <tr>\n",
       "      <th>5</th>\n",
       "      <td>youtube_description</td>\n",
       "      <td>0.000746</td>\n",
       "    </tr>\n",
       "    <tr>\n",
       "      <th>6</th>\n",
       "      <td>phone_operators_description</td>\n",
       "      <td>0.000068</td>\n",
       "    </tr>\n",
       "  </tbody>\n",
       "</table>\n",
       "</div>"
      ],
      "text/plain": [
       "                    Feature Id  Importances\n",
       "0        title_and_description     0.247596\n",
       "1     phone_normal_description     0.016012\n",
       "2       home_phone_description     0.014952\n",
       "3     phone_biased_description     0.004366\n",
       "4            email_description     0.000818\n",
       "5          youtube_description     0.000746\n",
       "6  phone_operators_description     0.000068"
      ]
     },
     "execution_count": 205,
     "metadata": {},
     "output_type": "execute_result"
    }
   ],
   "source": [
    "catboost.get_feature_importance(val_pool_text, type='LossFunctionChange', prettified=True)"
   ]
  },
  {
   "cell_type": "markdown",
   "metadata": {},
   "source": [
    "## Вывод\n",
    "В общем, я там сделал стекинг катбуста над тремя модельками, но он не полетел. А вот катбуст просто на лемматизации — полетел. Теперь сижу и грущу, что две недели на это угрохал."
   ]
  },
  {
   "cell_type": "code",
   "execution_count": 206,
   "metadata": {},
   "outputs": [],
   "source": [
    "catboost.save_model('../lib/models/catboost_classifier.cbm')"
   ]
  },
  {
   "cell_type": "code",
   "execution_count": 208,
   "metadata": {},
   "outputs": [],
   "source": [
    "catboost = CatBoostClassifier().load_model('../lib/models/catboost_classifier.cbm')"
   ]
  }
 ],
 "metadata": {
  "colab": {
   "collapsed_sections": [],
   "machine_shape": "hm",
   "name": "Avito_research.ipynb",
   "provenance": []
  },
  "kernelspec": {
   "display_name": "Python 3 (ipykernel)",
   "language": "python",
   "name": "python3"
  },
  "language_info": {
   "codemirror_mode": {
    "name": "ipython",
    "version": 3
   },
   "file_extension": ".py",
   "mimetype": "text/x-python",
   "name": "python",
   "nbconvert_exporter": "python",
   "pygments_lexer": "ipython3",
   "version": "3.8.8"
  }
 },
 "nbformat": 4,
 "nbformat_minor": 1
}
