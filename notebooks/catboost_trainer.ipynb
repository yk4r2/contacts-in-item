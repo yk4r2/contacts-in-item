{
 "cells": [
  {
   "cell_type": "markdown",
   "id": "46292021",
   "metadata": {},
   "source": [
    "# Чистый ноутбук для тренировки катбуста\n",
    "Оставил только тренировку и вывод метричек"
   ]
  },
  {
   "cell_type": "code",
   "execution_count": 20,
   "id": "4956abb9",
   "metadata": {},
   "outputs": [
    {
     "name": "stdout",
     "output_type": "stream",
     "text": [
      "INFO: Pandarallel will run on 16 workers.\n",
      "INFO: Pandarallel will use Memory file system to transfer data between the main process and workers.\n"
     ]
    }
   ],
   "source": [
    "from json import load as json_load\n",
    "from time import time\n",
    "\n",
    "from bayes_opt import BayesianOptimization, SequentialDomainReductionTransformer\n",
    "from bayes_opt.event import Events\n",
    "from bayes_opt.logger import JSONLogger\n",
    "from catboost import CatBoostClassifier, Pool\n",
    "from numpy import zeros\n",
    "from pandas import DataFrame, read_csv\n",
    "from pandarallel import pandarallel\n",
    "from re import sub\n",
    "from sklearn.metrics import accuracy_score, f1_score, make_scorer, roc_auc_score\n",
    "from sklearn.model_selection import StratifiedKFold, train_test_split\n",
    "from skopt import BayesSearchCV\n",
    "from skopt.callbacks import DeadlineStopper, VerboseCallback, DeltaXStopper\n",
    "from skopt.space import Real, Categorical, Integer\n",
    "from tabulate import tabulate\n",
    "from transliterate import translit\n",
    "\n",
    "pandarallel.initialize(progress_bar=False)"
   ]
  },
  {
   "cell_type": "code",
   "execution_count": 21,
   "id": "040d850e",
   "metadata": {},
   "outputs": [
    {
     "name": "stdout",
     "output_type": "stream",
     "text": [
      "CPU times: user 7.36 s, sys: 352 ms, total: 7.71 s\n",
      "Wall time: 7.71 s\n"
     ]
    }
   ],
   "source": [
    "%%time\n",
    "df_train = read_csv(\"../data/train_preprocessed.csv\")\n",
    "df_test = read_csv(\"../data/val_preprocessed.csv\")\n",
    "\n",
    "# df_train['description'] = df_train['description'].replace(r'[\\W_]+', ' ', regex = True).str.lower()\n",
    "# df_val['description'] = df_val['description'].replace(r'[\\W_]+', ' ', regex = True).str.lower()\n",
    "y_test = df_test.is_bad\n",
    "y_train = df_train.is_bad\n",
    "\n",
    "df_train = df_train.loc[:, df_train.columns != 'is_bad']\n",
    "df_test = df_test.loc[:, df_test.columns != 'is_bad']"
   ]
  },
  {
   "cell_type": "code",
   "execution_count": 22,
   "id": "9e3542f8",
   "metadata": {},
   "outputs": [],
   "source": [
    "df_train, df_val, y_train, y_val = train_test_split(df_train, y_train, test_size=0.01, random_state=2021, stratify=df_train['category'])"
   ]
  },
  {
   "cell_type": "code",
   "execution_count": 23,
   "id": "f74dd40f",
   "metadata": {},
   "outputs": [
    {
     "name": "stdout",
     "output_type": "stream",
     "text": [
      "CPU times: user 463 µs, sys: 0 ns, total: 463 µs\n",
      "Wall time: 244 µs\n"
     ]
    }
   ],
   "source": [
    "%%time\n",
    "with open('../lib/models/regexps/regexp.json') as json_file:\n",
    "    regexps = json_load(json_file)\n",
    "    json_file.close()"
   ]
  },
  {
   "cell_type": "code",
   "execution_count": 24,
   "id": "05da5106",
   "metadata": {},
   "outputs": [],
   "source": [
    "regexp_names = regexps.keys()"
   ]
  },
  {
   "cell_type": "markdown",
   "id": "c50d2125",
   "metadata": {},
   "source": [
    "Тут я не удаляю категории сразу, чтобы потом вывести метрички по ним"
   ]
  },
  {
   "cell_type": "code",
   "execution_count": 30,
   "id": "a024e6c2",
   "metadata": {},
   "outputs": [],
   "source": [
    "train_pool_text = Pool(data=df_train.drop(['category'], axis=1), label=y_train, text_features=['title_and_description', 'text', 'numbers'])\n",
    "val_pool_text = Pool(data=df_val.drop(['category'], axis=1), label=y_val, text_features=['title_and_description', 'text', 'numbers'])\n",
    "test_pool_text = Pool(data=df_test.drop(['category'], axis=1), label=y_test, text_features=['title_and_description', 'text', 'numbers'])"
   ]
  },
  {
   "cell_type": "code",
   "execution_count": 3,
   "id": "6020d950",
   "metadata": {},
   "outputs": [],
   "source": [
    "catboost = CatBoostClassifier().load_model('../lib/models/catboost_classifier.cbm')"
   ]
  },
  {
   "cell_type": "markdown",
   "id": "37f3c552",
   "metadata": {},
   "source": [
    "## Оптимизация гиперпараметров\n",
    "Напишем функции для Байесовской оптимизации"
   ]
  },
  {
   "cell_type": "code",
   "execution_count": 132,
   "id": "0fbbaa02",
   "metadata": {},
   "outputs": [],
   "source": [
    "def get_model(**params):\n",
    "    return CatBoostClassifier(**params)\n",
    "\n",
    "def validate(model, X_train, y_train, X_val, y_val, verbose=0):\n",
    "    model.fit(\n",
    "        X_train,\n",
    "        y_train,\n",
    "        eval_set=(X_val, y_val),\n",
    "#         plot=verbose,\n",
    "        plot=False\n",
    "    )\n",
    "    print(model.get_params())\n",
    "    probs = model.predict_proba(X_val)[:,1]\n",
    "    current_score = roc_auc_score(y_val, probs)\n",
    "    if verbose:\n",
    "        print('score: ', current_score, '\\n')\n",
    "        \n",
    "    return current_score\n",
    "\n",
    "def evaluate_model(**params):\n",
    "    params_init = {\n",
    "        'iterations': 1000, \n",
    "        'verbose': 0,\n",
    "        'use_best_model': True,\n",
    "        'early_stopping_rounds': 100,\n",
    "        'loss_function': 'Logloss',\n",
    "        'task_type': 'GPU',\n",
    "        'text_features': ['title_and_description', 'filtered_text', 'filtered_numbers'],\n",
    "        'bagging_temperature': 0,\n",
    "    }\n",
    "    params_init.update(params)\n",
    "    params_init['depth'] = int(round(params_init['depth']))\n",
    "#     params_init['bagging_temperature'] = int(round(params_init['bagging_temperature']))\n",
    "    model = get_model(**params_init)\n",
    "    current_score = validate(model, X_train, y_train, X_val, y_val, verbose=1)\n",
    "    return current_score"
   ]
  },
  {
   "cell_type": "code",
   "execution_count": 86,
   "id": "93861331",
   "metadata": {},
   "outputs": [],
   "source": [
    "X_train = df_train.drop(['category', 'phone_normal', 'youtube'], axis=1)\n",
    "X_val = df_val.drop(['category', 'phone_normal', 'youtube'], axis=1)"
   ]
  },
  {
   "cell_type": "code",
   "execution_count": 84,
   "id": "39c2b102",
   "metadata": {},
   "outputs": [],
   "source": [
    "pbounds = {\n",
    "    'depth': (4, 12),\n",
    "    'l2_leaf_reg': (1e-3, 1e2),\n",
    "    'random_strength': (1e-2, 10),\n",
    "    'bagging_temperature': (0, 10),\n",
    "}"
   ]
  },
  {
   "cell_type": "markdown",
   "id": "4338ff68",
   "metadata": {},
   "source": [
    "Сначала поищем минимум глобально, для этого пока уберём Domain Reduction"
   ]
  },
  {
   "cell_type": "code",
   "execution_count": null,
   "id": "b6f4255f",
   "metadata": {},
   "outputs": [],
   "source": [
    "# bounds_transformer = SequentialDomainReductionTransformer()\n",
    "optimizer = BayesianOptimization(evaluate_model, pbounds, random_state=4)#, bounds_transformer=bounds_transformer)\n",
    "\n",
    "logger = JSONLogger(path=\"bayesian_search_logs/logs.json\")\n",
    "optimizer.subscribe(Events.OPTIMIZATION_STEP, logger)\n",
    "\n",
    "optimizer.maximize(init_points=2, n_iter=50, kappa=5)\n",
    "\n",
    "optimizer.res\n",
    "# optimized params one can find in ./logs.json"
   ]
  },
  {
   "cell_type": "code",
   "execution_count": 118,
   "id": "d62e30e4",
   "metadata": {},
   "outputs": [
    {
     "data": {
      "text/plain": [
       "{'target': 0.9746248876329148,\n",
       " 'params': {'bagging_temperature': 0.0,\n",
       "  'depth': 12.0,\n",
       "  'l2_leaf_reg': 5.4609410259597775,\n",
       "  'random_strength': 0.01}}"
      ]
     },
     "execution_count": 118,
     "metadata": {},
     "output_type": "execute_result"
    }
   ],
   "source": [
    "optimizer.max"
   ]
  },
  {
   "cell_type": "markdown",
   "id": "7ccd7500",
   "metadata": {},
   "source": [
    "Теперь будем искать в окрестностях найденного минимума, используя Domain Reduction"
   ]
  },
  {
   "cell_type": "code",
   "execution_count": null,
   "id": "5e7de69d",
   "metadata": {},
   "outputs": [],
   "source": [
    "pbounds_2 = {\n",
    "    'depth': (11, 13),\n",
    "    'l2_leaf_reg': (1e-3, 1e1),\n",
    "    'random_strength': (1e-2, 10),\n",
    "    'learning_rate': (1e-3, 1e-1),\n",
    "}\n",
    "\n",
    "bounds_transformer = SequentialDomainReductionTransformer()\n",
    "optimizer = BayesianOptimization(evaluate_model, pbounds_2, random_state=4, bounds_transformer=bounds_transformer)\n",
    "\n",
    "logger = JSONLogger(path=\"bayesian_search_logs/logs_2.json\")\n",
    "optimizer.subscribe(Events.OPTIMIZATION_STEP, logger)\n",
    "\n",
    "optimizer.maximize(init_points=4, n_iter=30, kappa=2.0)\n",
    "\n",
    "optimizer.res\n",
    "# optimized params one can find in ./logs.json"
   ]
  },
  {
   "cell_type": "code",
   "execution_count": 135,
   "id": "392458e5",
   "metadata": {},
   "outputs": [
    {
     "data": {
      "text/plain": [
       "{'target': 0.978803933112792,\n",
       " 'params': {'depth': 12.934059678027353,\n",
       "  'l2_leaf_reg': 5.472775259508048,\n",
       "  'learning_rate': 0.09729575163652356,\n",
       "  'random_strength': 7.151011776806903}}"
      ]
     },
     "execution_count": 135,
     "metadata": {},
     "output_type": "execute_result"
    }
   ],
   "source": [
    "optimizer.max"
   ]
  },
  {
   "cell_type": "markdown",
   "id": "8304ff12",
   "metadata": {},
   "source": [
    "## Обучение модели"
   ]
  },
  {
   "cell_type": "code",
   "execution_count": 31,
   "id": "904c6dc1",
   "metadata": {
    "scrolled": true
   },
   "outputs": [
    {
     "data": {
      "application/vnd.jupyter.widget-view+json": {
       "model_id": "ee2729f8bb7d4929985794740a7ff57b",
       "version_major": 2,
       "version_minor": 0
      },
      "text/plain": [
       "MetricVisualizer(layout=Layout(align_self='stretch', height='500px'))"
      ]
     },
     "metadata": {},
     "output_type": "display_data"
    },
    {
     "name": "stdout",
     "output_type": "stream",
     "text": [
      "0:\tlearn: 0.9363608\ttest: 0.9406977\tbest: 0.9406977 (0)\ttotal: 487ms\tremaining: 12m 9s\n",
      "500:\tlearn: 0.9818082\ttest: 0.9781525\tbest: 0.9781525 (500)\ttotal: 3m 24s\tremaining: 6m 48s\n",
      "1000:\tlearn: 0.9866583\ttest: 0.9801734\tbest: 0.9801981 (992)\ttotal: 6m 45s\tremaining: 3m 22s\n",
      "1499:\tlearn: 0.9890984\ttest: 0.9810519\tbest: 0.9810859 (1478)\ttotal: 10m 2s\tremaining: 0us\n",
      "bestTest = 0.9810858965\n",
      "bestIteration = 1478\n",
      "Shrink model to first 1479 iterations.\n"
     ]
    },
    {
     "data": {
      "text/plain": [
       "<catboost.core.CatBoostClassifier at 0x7f3cd83a7160>"
      ]
     },
     "execution_count": 31,
     "metadata": {},
     "output_type": "execute_result"
    }
   ],
   "source": [
    "catboost = CatBoostClassifier(\n",
    "    iterations=1500,\n",
    "    bagging_temperature=0.0,\n",
    "    learning_rate=0.09729575163652356,\n",
    "    random_strength=7.151011776806903,\n",
    "    depth=13,\n",
    "    l2_leaf_reg=5.472775259508048,\n",
    "    eval_metric='AUC',\n",
    "    verbose=500,\n",
    "    task_type='GPU',\n",
    "#     thread_count=-1,\n",
    ")\n",
    "catboost.fit(train_pool_text, eval_set=val_pool_text, plot=True)"
   ]
  },
  {
   "cell_type": "markdown",
   "id": "166e8451",
   "metadata": {},
   "source": [
    "## Вывод метрик"
   ]
  },
  {
   "cell_type": "code",
   "execution_count": 27,
   "id": "24b8623e",
   "metadata": {},
   "outputs": [],
   "source": [
    "def category_metrics_getter(X, y, category, pred_probas, labels_pred, cats_table, model):\n",
    "    cat_name = translit(category.lower().replace(\" \", \"_\"), 'ru', reversed=True)\n",
    "    \n",
    "    pred_probas[X[\"category\"] == category] = model.predict_proba(X.drop(['category'], axis=1)[X[\"category\"] == category])[:, 1]\n",
    "    labels_pred[X[\"category\"] == category] = model.predict(X.drop(['category'], axis=1)[X[\"category\"] == category])\n",
    "    \n",
    "    rocauc_category = roc_auc_score(y[X[\"category\"] == category], pred_probas[X[\"category\"] == category])\n",
    "    f1_category = f1_score(y[X[\"category\"] == category], labels_pred[X[\"category\"] == category])\n",
    "    accuracy_category = accuracy_score(y[X[\"category\"] == category], labels_pred[X[\"category\"] == category])\n",
    "    \n",
    "    cats_table.append([cat_name, rocauc_category, f1_category, accuracy_category])\n",
    "    return pred_probas, labels_pred, cats_table\n",
    "\n",
    "def metrics_printer(X, y, model):\n",
    "    overall_table = []\n",
    "    cats_table = []\n",
    "    pred_probas = zeros(y.shape)\n",
    "    labels_pred = zeros(y.shape)\n",
    "    for category in X[\"category\"].unique():\n",
    "        pred_probas, labels_pred, cats_table = category_metrics_getter(\n",
    "            X, y, category, pred_probas, labels_pred, cats_table, model,\n",
    "        )\n",
    "    rocauc = roc_auc_score(y, pred_probas)\n",
    "    f1 = f1_score(y, labels_pred)\n",
    "    accuracy = accuracy_score(y, labels_pred)\n",
    "    overall_table.append([rocauc, f1, accuracy])\n",
    "    print(\"Categories table:\")\n",
    "    print(tabulate(cats_table, headers=[\"Category\", \"AUC\", 'f1', 'accuracy'], tablefmt='orgtbl') + '\\n')\n",
    "    print(\"Overall table:\")\n",
    "    print(tabulate(overall_table, headers=['AUC', 'f1', 'accuracy'], tablefmt='orgtbl'))"
   ]
  },
  {
   "cell_type": "code",
   "execution_count": 32,
   "id": "e74d8051",
   "metadata": {},
   "outputs": [
    {
     "name": "stdout",
     "output_type": "stream",
     "text": [
      "Categories table:\n",
      "| Category             |      AUC |       f1 |   accuracy |\n",
      "|----------------------+----------+----------+------------|\n",
      "| transport            | 0.987587 | 0.90463  |   0.943424 |\n",
      "| dlja_biznesa         | 0.886074 | 0.653061 |   0.941176 |\n",
      "| dlja_doma_i_dachi    | 0.957238 | 0.830357 |   0.940563 |\n",
      "| lichnye_veschi       | 0.840291 | 0.690355 |   0.930878 |\n",
      "| uslugi               | 0.894389 | 0.814691 |   0.834821 |\n",
      "| bytovaja_elektronika | 0.93794  | 0.59116  |   0.946915 |\n",
      "| nedvizhimost'        | 0.952774 | 0.829236 |   0.853728 |\n",
      "| hobbi_i_otdyh        | 0.924595 | 0.560976 |   0.909661 |\n",
      "| rabota               | 0.917464 | 0.801706 |   0.829044 |\n",
      "| zhivotnye            | 0.923628 | 0.851675 |   0.852381 |\n",
      "\n",
      "Overall table:\n",
      "|      AUC |       f1 |   accuracy |\n",
      "|----------+----------+------------|\n",
      "| 0.960391 | 0.833941 |   0.921414 |\n",
      "CPU times: user 5.64 s, sys: 172 ms, total: 5.81 s\n",
      "Wall time: 960 ms\n"
     ]
    }
   ],
   "source": [
    "%%time\n",
    "metrics_printer(df_test, y_test, catboost)"
   ]
  },
  {
   "cell_type": "code",
   "execution_count": 30,
   "id": "587979f8",
   "metadata": {},
   "outputs": [
    {
     "name": "stdout",
     "output_type": "stream",
     "text": [
      "Categories table:\n",
      "| Category             |      AUC |       f1 |   accuracy |\n",
      "|----------------------+----------+----------+------------|\n",
      "| transport            | 0.988839 | 0.914286 |   0.948699 |\n",
      "| dlja_biznesa         | 0.89964  | 0.666667 |   0.941176 |\n",
      "| dlja_doma_i_dachi    | 0.952568 | 0.837838 |   0.943691 |\n",
      "| lichnye_veschi       | 0.831012 | 0.663391 |   0.92238  |\n",
      "| uslugi               | 0.894585 | 0.81198  |   0.831845 |\n",
      "| bytovaja_elektronika | 0.944732 | 0.650138 |   0.954448 |\n",
      "| nedvizhimost'        | 0.958663 | 0.828817 |   0.85259  |\n",
      "| hobbi_i_otdyh        | 0.935211 | 0.594937 |   0.919699 |\n",
      "| rabota               | 0.912598 | 0.807611 |   0.832721 |\n",
      "| zhivotnye            | 0.940499 | 0.889952 |   0.890476 |\n",
      "\n",
      "Overall table:\n",
      "|      AUC |       f1 |   accuracy |\n",
      "|----------+----------+------------|\n",
      "| 0.962959 | 0.842064 |   0.924801 |\n",
      "CPU times: user 5.45 s, sys: 120 ms, total: 5.57 s\n",
      "Wall time: 974 ms\n"
     ]
    }
   ],
   "source": [
    "%%time\n",
    "metrics_printer(df_test, y_test, catboost)"
   ]
  },
  {
   "cell_type": "markdown",
   "id": "c19a9eea",
   "metadata": {},
   "source": [
    "Отбор фичей"
   ]
  },
  {
   "cell_type": "code",
   "execution_count": 34,
   "id": "e0fe627d",
   "metadata": {},
   "outputs": [
    {
     "data": {
      "text/html": [
       "<div>\n",
       "<style scoped>\n",
       "    .dataframe tbody tr th:only-of-type {\n",
       "        vertical-align: middle;\n",
       "    }\n",
       "\n",
       "    .dataframe tbody tr th {\n",
       "        vertical-align: top;\n",
       "    }\n",
       "\n",
       "    .dataframe thead th {\n",
       "        text-align: right;\n",
       "    }\n",
       "</style>\n",
       "<table border=\"1\" class=\"dataframe\">\n",
       "  <thead>\n",
       "    <tr style=\"text-align: right;\">\n",
       "      <th></th>\n",
       "      <th>Feature Id</th>\n",
       "      <th>Importances</th>\n",
       "    </tr>\n",
       "  </thead>\n",
       "  <tbody>\n",
       "    <tr>\n",
       "      <th>0</th>\n",
       "      <td>title_and_description</td>\n",
       "      <td>0.137108</td>\n",
       "    </tr>\n",
       "    <tr>\n",
       "      <th>1</th>\n",
       "      <td>home_phone</td>\n",
       "      <td>0.028413</td>\n",
       "    </tr>\n",
       "    <tr>\n",
       "      <th>2</th>\n",
       "      <td>numbers</td>\n",
       "      <td>0.027423</td>\n",
       "    </tr>\n",
       "    <tr>\n",
       "      <th>3</th>\n",
       "      <td>text</td>\n",
       "      <td>0.018337</td>\n",
       "    </tr>\n",
       "    <tr>\n",
       "      <th>4</th>\n",
       "      <td>email</td>\n",
       "      <td>0.001409</td>\n",
       "    </tr>\n",
       "    <tr>\n",
       "      <th>5</th>\n",
       "      <td>phone_biased</td>\n",
       "      <td>0.000693</td>\n",
       "    </tr>\n",
       "    <tr>\n",
       "      <th>6</th>\n",
       "      <td>phone_operators</td>\n",
       "      <td>0.000122</td>\n",
       "    </tr>\n",
       "  </tbody>\n",
       "</table>\n",
       "</div>"
      ],
      "text/plain": [
       "              Feature Id  Importances\n",
       "0  title_and_description     0.137108\n",
       "1             home_phone     0.028413\n",
       "2                numbers     0.027423\n",
       "3                   text     0.018337\n",
       "4                  email     0.001409\n",
       "5           phone_biased     0.000693\n",
       "6        phone_operators     0.000122"
      ]
     },
     "execution_count": 34,
     "metadata": {},
     "output_type": "execute_result"
    }
   ],
   "source": [
    "catboost.get_feature_importance(val_pool_text, type='LossFunctionChange', prettified=True)"
   ]
  },
  {
   "cell_type": "code",
   "execution_count": 35,
   "id": "a0fd02bf",
   "metadata": {},
   "outputs": [],
   "source": [
    "catboost.save_model('../lib/models/catboost_classifier.cbm')"
   ]
  }
 ],
 "metadata": {
  "kernelspec": {
   "display_name": "Python 3 (ipykernel)",
   "language": "python",
   "name": "python3"
  },
  "language_info": {
   "codemirror_mode": {
    "name": "ipython",
    "version": 3
   },
   "file_extension": ".py",
   "mimetype": "text/x-python",
   "name": "python",
   "nbconvert_exporter": "python",
   "pygments_lexer": "ipython3",
   "version": "3.8.8"
  }
 },
 "nbformat": 4,
 "nbformat_minor": 5
}
