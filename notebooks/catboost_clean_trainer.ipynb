{
 "cells": [
  {
   "cell_type": "markdown",
   "id": "46292021",
   "metadata": {},
   "source": [
    "# Чистый ноутбук для тренировки катбуста\n",
    "Оставил только тренировку и вывод метричек"
   ]
  },
  {
   "cell_type": "code",
   "execution_count": 8,
   "id": "4956abb9",
   "metadata": {},
   "outputs": [],
   "source": [
    "from json import load as json_load\n",
    "\n",
    "from catboost import CatBoostClassifier, Pool\n",
    "from numpy import zeros\n",
    "from pandas import DataFrame, read_csv\n",
    "from sklearn.metrics import accuracy_score, f1_score, roc_auc_score\n",
    "from tabulate import tabulate\n",
    "from transliterate import translit"
   ]
  },
  {
   "cell_type": "code",
   "execution_count": 2,
   "id": "040d850e",
   "metadata": {},
   "outputs": [
    {
     "name": "stdout",
     "output_type": "stream",
     "text": [
      "CPU times: user 5.73 s, sys: 316 ms, total: 6.04 s\n",
      "Wall time: 6.05 s\n"
     ]
    }
   ],
   "source": [
    "%%time\n",
    "df_train = read_csv(\"../data/train_preprocessed.csv\")\n",
    "df_test = read_csv(\"../data/val_preprocessed.csv\")\n",
    "\n",
    "# df_train['description'] = df_train['description'].replace(r'[\\W_]+', ' ', regex = True).str.lower()\n",
    "# df_val['description'] = df_val['description'].replace(r'[\\W_]+', ' ', regex = True).str.lower()\n",
    "y_test = df_test.is_bad\n",
    "y_train = df_train.is_bad\n",
    "\n",
    "df_train = df_train.loc[:, df_train.columns != 'is_bad']\n",
    "df_test = df_test.loc[:, df_test.columns != 'is_bad']"
   ]
  },
  {
   "cell_type": "code",
   "execution_count": 30,
   "id": "f74dd40f",
   "metadata": {},
   "outputs": [
    {
     "name": "stdout",
     "output_type": "stream",
     "text": [
      "CPU times: user 618 µs, sys: 0 ns, total: 618 µs\n",
      "Wall time: 315 µs\n"
     ]
    }
   ],
   "source": [
    "%%timet\n",
    "with open('../lib/models/regexps/regexp.json') as json_file:\n",
    "    regexps = json_load(json_file)\n",
    "    json_file.close()"
   ]
  },
  {
   "cell_type": "code",
   "execution_count": 31,
   "id": "05da5106",
   "metadata": {},
   "outputs": [],
   "source": [
    "regexp_names = regexps.keys()"
   ]
  },
  {
   "cell_type": "markdown",
   "id": "c50d2125",
   "metadata": {},
   "source": [
    "Тут я не удаляю категории сразу, чтобы потом вывести метрички по ним"
   ]
  },
  {
   "cell_type": "code",
   "execution_count": 32,
   "id": "a024e6c2",
   "metadata": {},
   "outputs": [],
   "source": [
    "train_pool_text = Pool(data=df_train.drop(['category'], axis=1), label=y_train, text_features=['title_and_description'])\n",
    "test_pool_text = Pool(data=df_test.drop(['category'], axis=1), label=y_test, text_features=['title_and_description'])"
   ]
  },
  {
   "cell_type": "code",
   "execution_count": 3,
   "id": "1b5cf570",
   "metadata": {},
   "outputs": [],
   "source": [
    "catboost = CatBoostClassifier().load_model('../lib/models/catboost_classifier.cbm')"
   ]
  },
  {
   "cell_type": "code",
   "execution_count": 46,
   "id": "b6f4255f",
   "metadata": {},
   "outputs": [
    {
     "name": "stdout",
     "output_type": "stream",
     "text": [
      "CPU times: user 1h 6min 38s, sys: 13.5 s, total: 1h 6min 52s\n",
      "Wall time: 4min 42s\n"
     ]
    },
    {
     "data": {
      "text/plain": [
       "<catboost.core.CatBoostClassifier at 0x7fa9737e9b50>"
      ]
     },
     "execution_count": 46,
     "metadata": {},
     "output_type": "execute_result"
    }
   ],
   "source": [
    "%%time\n",
    "catboost = CatBoostClassifier(\n",
    "    iterations=1000,\n",
    "    learning_rate=0.1,\n",
    "    random_strength=0.01,\n",
    "    depth=8,\n",
    "    l2_leaf_reg=15,\n",
    "    eval_metric='AUC',\n",
    "    verbose=0,\n",
    "    task_type='CPU',\n",
    "    thread_count=-1,\n",
    ")\n",
    "catboost.fit(train_pool_text)"
   ]
  },
  {
   "cell_type": "code",
   "execution_count": 47,
   "id": "24b8623e",
   "metadata": {},
   "outputs": [],
   "source": [
    "def metrics_printer(X, y, model):\n",
    "    overall_table = []\n",
    "    cats_table = []\n",
    "    pred_probas = zeros(y.shape)\n",
    "    labels_pred = zeros(y.shape)\n",
    "    for category in X[\"category\"].unique():\n",
    "        cat_name = translit(category.lower().replace(\" \", \"_\"), 'ru', reversed=True)\n",
    "        pred_probas[X[\"category\"] == category] = model.predict_proba(X.drop(['category'], axis=1)[X[\"category\"] == category])[:, 1]\n",
    "        labels_pred[X[\"category\"] == category] = model.predict(X.drop(['category'], axis=1)[X[\"category\"] == category])\n",
    "        rocauc_category = roc_auc_score(y[X[\"category\"] == category], pred_probas[X[\"category\"] == category])\n",
    "        f1_category = f1_score(y[X[\"category\"] == category], labels_pred[X[\"category\"] == category])\n",
    "        accuracy_category = accuracy_score(y[X[\"category\"] == category], labels_pred[X[\"category\"] == category])\n",
    "        cats_table.append([cat_name, rocauc_category, f1_category, accuracy_category])\n",
    "    rocauc = roc_auc_score(y, pred_probas)\n",
    "    f1 = f1_score(y, labels_pred)\n",
    "    accuracy = accuracy_score(y, labels_pred)\n",
    "    overall_table.append([rocauc, f1, accuracy])\n",
    "    print(\"Categories table:\")\n",
    "    print(tabulate(cats_table, headers=[\"Category\", \"AUC\", 'f1', 'accuracy'], tablefmt='orgtbl') + '\\n')\n",
    "    print(\"Overall table:\")\n",
    "    print(tabulate(overall_table, headers=['AUC', 'f1', 'accuracy'], tablefmt='orgtbl'))"
   ]
  },
  {
   "cell_type": "code",
   "execution_count": 48,
   "id": "e74d8051",
   "metadata": {},
   "outputs": [
    {
     "name": "stdout",
     "output_type": "stream",
     "text": [
      "Categories table:\n",
      "| Category             |      AUC |       f1 |   accuracy |\n",
      "|----------------------+----------+----------+------------|\n",
      "| transport            | 0.982665 | 0.897846 |   0.939603 |\n",
      "| dlja_biznesa         | 0.88068  | 0.551724 |   0.910035 |\n",
      "| dlja_doma_i_dachi    | 0.92784  | 0.786127 |   0.922836 |\n",
      "| lichnye_veschi       | 0.835472 | 0.625    |   0.915014 |\n",
      "| uslugi               | 0.849788 | 0.759322 |   0.78869  |\n",
      "| bytovaja_elektronika | 0.940927 | 0.546479 |   0.942253 |\n",
      "| nedvizhimost'        | 0.907043 | 0.744828 |   0.789414 |\n",
      "| hobbi_i_otdyh        | 0.906747 | 0.481928 |   0.892095 |\n",
      "| rabota               | 0.864855 | 0.742222 |   0.786765 |\n",
      "| zhivotnye            | 0.913923 | 0.833333 |   0.838095 |\n",
      "\n",
      "Overall table:\n",
      "|      AUC |       f1 |   accuracy |\n",
      "|----------+----------+------------|\n",
      "| 0.944708 | 0.794485 |   0.903615 |\n",
      "CPU times: user 2.97 s, sys: 68 ms, total: 3.04 s\n",
      "Wall time: 636 ms\n"
     ]
    }
   ],
   "source": [
    "%%time\n",
    "metrics_printer(df_test, y_test, catboost)"
   ]
  },
  {
   "cell_type": "code",
   "execution_count": 49,
   "id": "a0fd02bf",
   "metadata": {},
   "outputs": [],
   "source": [
    "catboost.save_model('../lib/models/catboost_classifier.cbm')"
   ]
  },
  {
   "cell_type": "markdown",
   "id": "dd68f670",
   "metadata": {},
   "source": [
    "Тут мне было интересно, сколько же времени работает предсказание"
   ]
  },
  {
   "cell_type": "code",
   "execution_count": 9,
   "id": "7571aa06",
   "metadata": {},
   "outputs": [],
   "source": [
    "preds = catboost.predict_proba(df_test.drop('category', axis=1))[:, 1]"
   ]
  },
  {
   "cell_type": "code",
   "execution_count": 13,
   "id": "3b56c411",
   "metadata": {},
   "outputs": [
    {
     "data": {
      "text/html": [
       "<div>\n",
       "<style scoped>\n",
       "    .dataframe tbody tr th:only-of-type {\n",
       "        vertical-align: middle;\n",
       "    }\n",
       "\n",
       "    .dataframe tbody tr th {\n",
       "        vertical-align: top;\n",
       "    }\n",
       "\n",
       "    .dataframe thead th {\n",
       "        text-align: right;\n",
       "    }\n",
       "</style>\n",
       "<table border=\"1\" class=\"dataframe\">\n",
       "  <thead>\n",
       "    <tr style=\"text-align: right;\">\n",
       "      <th></th>\n",
       "      <th>index</th>\n",
       "      <th>prediction</th>\n",
       "    </tr>\n",
       "  </thead>\n",
       "  <tbody>\n",
       "    <tr>\n",
       "      <th>0</th>\n",
       "      <td>0</td>\n",
       "      <td>0.936225</td>\n",
       "    </tr>\n",
       "    <tr>\n",
       "      <th>1</th>\n",
       "      <td>1</td>\n",
       "      <td>0.009671</td>\n",
       "    </tr>\n",
       "    <tr>\n",
       "      <th>2</th>\n",
       "      <td>2</td>\n",
       "      <td>0.252154</td>\n",
       "    </tr>\n",
       "    <tr>\n",
       "      <th>3</th>\n",
       "      <td>3</td>\n",
       "      <td>0.859289</td>\n",
       "    </tr>\n",
       "    <tr>\n",
       "      <th>4</th>\n",
       "      <td>4</td>\n",
       "      <td>0.128627</td>\n",
       "    </tr>\n",
       "    <tr>\n",
       "      <th>...</th>\n",
       "      <td>...</td>\n",
       "      <td>...</td>\n",
       "    </tr>\n",
       "    <tr>\n",
       "      <th>16232</th>\n",
       "      <td>16232</td>\n",
       "      <td>0.288358</td>\n",
       "    </tr>\n",
       "    <tr>\n",
       "      <th>16233</th>\n",
       "      <td>16233</td>\n",
       "      <td>0.043034</td>\n",
       "    </tr>\n",
       "    <tr>\n",
       "      <th>16234</th>\n",
       "      <td>16234</td>\n",
       "      <td>0.017408</td>\n",
       "    </tr>\n",
       "    <tr>\n",
       "      <th>16235</th>\n",
       "      <td>16235</td>\n",
       "      <td>0.007958</td>\n",
       "    </tr>\n",
       "    <tr>\n",
       "      <th>16236</th>\n",
       "      <td>16236</td>\n",
       "      <td>0.131878</td>\n",
       "    </tr>\n",
       "  </tbody>\n",
       "</table>\n",
       "<p>16237 rows × 2 columns</p>\n",
       "</div>"
      ],
      "text/plain": [
       "       index  prediction\n",
       "0          0    0.936225\n",
       "1          1    0.009671\n",
       "2          2    0.252154\n",
       "3          3    0.859289\n",
       "4          4    0.128627\n",
       "...      ...         ...\n",
       "16232  16232    0.288358\n",
       "16233  16233    0.043034\n",
       "16234  16234    0.017408\n",
       "16235  16235    0.007958\n",
       "16236  16236    0.131878\n",
       "\n",
       "[16237 rows x 2 columns]"
      ]
     },
     "execution_count": 13,
     "metadata": {},
     "output_type": "execute_result"
    }
   ],
   "source": [
    "DataFrame(zip(range(len(preds)), preds), columns=['index', 'prediction'])"
   ]
  },
  {
   "cell_type": "code",
   "execution_count": null,
   "id": "21afb9f5",
   "metadata": {},
   "outputs": [],
   "source": []
  }
 ],
 "metadata": {
  "kernelspec": {
   "display_name": "Python 3 (ipykernel)",
   "language": "python",
   "name": "python3"
  },
  "language_info": {
   "codemirror_mode": {
    "name": "ipython",
    "version": 3
   },
   "file_extension": ".py",
   "mimetype": "text/x-python",
   "name": "python",
   "nbconvert_exporter": "python",
   "pygments_lexer": "ipython3",
   "version": "3.8.8"
  }
 },
 "nbformat": 4,
 "nbformat_minor": 5
}
